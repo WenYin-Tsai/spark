{
 "cells": [
  {
   "cell_type": "markdown",
   "id": "2b2e80d7-7e63-41bb-ba53-5589fdd2fd9c",
   "metadata": {},
   "source": [
    "## Import Modules"
   ]
  },
  {
   "cell_type": "code",
   "execution_count": 1,
   "id": "54da07f6-562c-4966-b8e2-8c9e244e1004",
   "metadata": {},
   "outputs": [],
   "source": [
    "from pyspark.sql import SparkSession\n",
    "import pyspark.pandas as ps\n",
    "import numpy as np\n",
    "\n",
    "from pyspark.sql.functions import col, isnull, count, when"
   ]
  },
  {
   "cell_type": "markdown",
   "id": "f2804d47-c66e-42e6-8566-97762824ef72",
   "metadata": {},
   "source": [
    "## Set Spark Session"
   ]
  },
  {
   "cell_type": "code",
   "execution_count": 2,
   "id": "c887316f-8584-4661-ac84-e844bbd66640",
   "metadata": {},
   "outputs": [],
   "source": [
    "spark = SparkSession.builder.getOrCreate()"
   ]
  },
  {
   "cell_type": "code",
   "execution_count": 3,
   "id": "fed73527-e340-4d63-b44a-6293cd36c757",
   "metadata": {},
   "outputs": [],
   "source": [
    "prev = spark.conf.get('spark.sql.execution.arrow.pyspark.enabled')\n",
    "spark.conf.set('spark.sql.execution.arrow.pyspark.enabled', True)\n",
    "ps.set_option('compute.default_index_type', 'distributed')\n",
    "\n",
    "# Set its default value back.\n",
    "#ps.reset_option(\"compute.default_index_type\")\n",
    "#spark.conf.set(\"spark.sql.execution.arrow.pyspark.enabled\", prev)  "
   ]
  },
  {
   "cell_type": "markdown",
   "id": "a40a0031-dee5-4619-be54-cba180ce50db",
   "metadata": {},
   "source": [
    "## Load Data"
   ]
  },
  {
   "cell_type": "code",
   "execution_count": 4,
   "id": "9c0da67b-ae83-47c6-b95d-7ad44bf88a26",
   "metadata": {},
   "outputs": [
    {
     "name": "stderr",
     "output_type": "stream",
     "text": [
      "                                                                                \r"
     ]
    }
   ],
   "source": [
    "# load data\n",
    "sdf = spark.read.csv(\"ParisHousing.csv\", inferSchema=True, header=True)\n",
    "# SQL\n",
    "sdf.createOrReplaceTempView('dfTable')"
   ]
  },
  {
   "cell_type": "markdown",
   "id": "baa93b00-d59d-45ca-8e70-971447d819a4",
   "metadata": {},
   "source": [
    "## Inspect Data"
   ]
  },
  {
   "cell_type": "code",
   "execution_count": 5,
   "id": "1fa6c9b2-74e9-44ed-bba4-7f9cb43e4db6",
   "metadata": {
    "tags": []
   },
   "outputs": [
    {
     "name": "stdout",
     "output_type": "stream",
     "text": [
      "root\n",
      " |-- squareMeters: integer (nullable = true)\n",
      " |-- numberOfRooms: integer (nullable = true)\n",
      " |-- hasYard: integer (nullable = true)\n",
      " |-- hasPool: integer (nullable = true)\n",
      " |-- floors: integer (nullable = true)\n",
      " |-- cityCode: integer (nullable = true)\n",
      " |-- cityPartRange: integer (nullable = true)\n",
      " |-- numPrevOwners: integer (nullable = true)\n",
      " |-- made: integer (nullable = true)\n",
      " |-- isNewBuilt: integer (nullable = true)\n",
      " |-- hasStormProtector: integer (nullable = true)\n",
      " |-- basement: integer (nullable = true)\n",
      " |-- attic: integer (nullable = true)\n",
      " |-- garage: integer (nullable = true)\n",
      " |-- hasStorageRoom: integer (nullable = true)\n",
      " |-- hasGuestRoom: integer (nullable = true)\n",
      " |-- price: double (nullable = true)\n",
      "\n"
     ]
    }
   ],
   "source": [
    "sdf.printSchema()"
   ]
  },
  {
   "cell_type": "code",
   "execution_count": 6,
   "id": "23d437d6-2d77-4c66-b0c1-e6c5b847d6b3",
   "metadata": {},
   "outputs": [
    {
     "name": "stdout",
     "output_type": "stream",
     "text": [
      "+------------+-------------+-------+-------+------+--------+-------------+-------------+----+----------+-----------------+--------+-----+------+--------------+------------+---------+\n",
      "|squareMeters|numberOfRooms|hasYard|hasPool|floors|cityCode|cityPartRange|numPrevOwners|made|isNewBuilt|hasStormProtector|basement|attic|garage|hasStorageRoom|hasGuestRoom|    price|\n",
      "+------------+-------------+-------+-------+------+--------+-------------+-------------+----+----------+-----------------+--------+-----+------+--------------+------------+---------+\n",
      "|       75523|            3|      0|      1|    63|    9373|            3|            8|2005|         0|                1|    4313| 9005|   956|             0|           7|7559081.5|\n",
      "|       80771|           39|      1|      1|    98|   39381|            8|            6|2015|         1|                0|    3653| 2436|   128|             1|           2|8085989.5|\n",
      "|       55712|           58|      0|      1|    19|   34457|            6|            8|2021|         0|                0|    2937| 8852|   135|             1|           9|5574642.1|\n",
      "+------------+-------------+-------+-------+------+--------+-------------+-------------+----+----------+-----------------+--------+-----+------+--------------+------------+---------+\n",
      "only showing top 3 rows\n",
      "\n"
     ]
    }
   ],
   "source": [
    "sdf.show(3)"
   ]
  },
  {
   "cell_type": "code",
   "execution_count": 7,
   "id": "4a72a522-d46a-4937-9fe2-24005ed5b33e",
   "metadata": {},
   "outputs": [
    {
     "name": "stdout",
     "output_type": "stream",
     "text": [
      "sdf shape: (10000,17)\n"
     ]
    }
   ],
   "source": [
    "print(f'sdf shape: ({sdf.count()},{len(sdf.columns)})')"
   ]
  },
  {
   "cell_type": "code",
   "execution_count": 8,
   "id": "943e72f1-ae43-4fed-a67a-aaf9f3304848",
   "metadata": {},
   "outputs": [
    {
     "name": "stderr",
     "output_type": "stream",
     "text": [
      "                                                                                \r"
     ]
    },
    {
     "name": "stdout",
     "output_type": "stream",
     "text": [
      "squareMeters      :  9483 \t [67753, 36131, 11458, 92188, 34061]\n",
      "numberOfRooms     :  100 \t [31, 85, 65, 53, 78]\n",
      "hasYard           :  2 \t [1, 0]\n",
      "hasPool           :  2 \t [1, 0]\n",
      "floors            :  100 \t [31, 85, 65, 53, 78]\n",
      "cityCode          :  9509 \t [89878, 16503, 55155, 2142, 73305]\n",
      "cityPartRange     :  10 \t [1, 6, 3, 5, 9]\n",
      "numPrevOwners     :  10 \t [1, 6, 3, 5, 9]\n",
      "made              :  32 \t [1990, 2003, 2007, 2018, 2015]\n",
      "isNewBuilt        :  2 \t [1, 0]\n",
      "hasStormProtector :  2 \t [1, 0]\n",
      "basement          :  6352 \t [2142, 1238, 4519, 2366, 6620]\n",
      "attic             :  6267 \t [7880, 6466, 6397, 7554, 4101]\n",
      "garage            :  901 \t [463, 148, 496, 833, 471]\n",
      "hasStorageRoom    :  2 \t [1, 0]\n",
      "hasGuestRoom      :  11 \t [1, 6, 3, 5, 9]\n",
      "price             :  10000 \t [9944705.3, 149234.3, 9626665.8, 2870499.1, 4851198.2]\n"
     ]
    }
   ],
   "source": [
    "for i in sdf.columns:\n",
    "    print('{:18}: '.format(i), sdf.select(i).distinct().count(), '\\t', [row[i] for row in sdf.select(i).distinct().collect()[:5]])"
   ]
  },
  {
   "cell_type": "code",
   "execution_count": 9,
   "id": "afe3c1ec-cc0c-4a3b-a7e3-49548d22bd09",
   "metadata": {
    "tags": []
   },
   "outputs": [
    {
     "name": "stderr",
     "output_type": "stream",
     "text": [
      "                                                                                \r"
     ]
    },
    {
     "data": {
      "text/html": [
       "<div>\n",
       "<style scoped>\n",
       "    .dataframe tbody tr th:only-of-type {\n",
       "        vertical-align: middle;\n",
       "    }\n",
       "\n",
       "    .dataframe tbody tr th {\n",
       "        vertical-align: top;\n",
       "    }\n",
       "\n",
       "    .dataframe thead th {\n",
       "        text-align: right;\n",
       "    }\n",
       "</style>\n",
       "<table border=\"1\" class=\"dataframe\">\n",
       "  <thead>\n",
       "    <tr style=\"text-align: right;\">\n",
       "      <th></th>\n",
       "      <th>summary</th>\n",
       "      <th>squareMeters</th>\n",
       "      <th>numberOfRooms</th>\n",
       "      <th>hasYard</th>\n",
       "      <th>hasPool</th>\n",
       "      <th>floors</th>\n",
       "      <th>cityCode</th>\n",
       "      <th>cityPartRange</th>\n",
       "      <th>numPrevOwners</th>\n",
       "      <th>made</th>\n",
       "      <th>isNewBuilt</th>\n",
       "      <th>hasStormProtector</th>\n",
       "      <th>basement</th>\n",
       "      <th>attic</th>\n",
       "      <th>garage</th>\n",
       "      <th>hasStorageRoom</th>\n",
       "      <th>hasGuestRoom</th>\n",
       "      <th>price</th>\n",
       "    </tr>\n",
       "  </thead>\n",
       "  <tbody>\n",
       "    <tr>\n",
       "      <th>0</th>\n",
       "      <td>count</td>\n",
       "      <td>10000</td>\n",
       "      <td>10000</td>\n",
       "      <td>10000</td>\n",
       "      <td>10000</td>\n",
       "      <td>10000</td>\n",
       "      <td>10000</td>\n",
       "      <td>10000</td>\n",
       "      <td>10000</td>\n",
       "      <td>10000</td>\n",
       "      <td>10000</td>\n",
       "      <td>10000</td>\n",
       "      <td>10000</td>\n",
       "      <td>10000</td>\n",
       "      <td>10000</td>\n",
       "      <td>10000</td>\n",
       "      <td>10000</td>\n",
       "      <td>10000</td>\n",
       "    </tr>\n",
       "    <tr>\n",
       "      <th>1</th>\n",
       "      <td>mean</td>\n",
       "      <td>49870.1312</td>\n",
       "      <td>50.3584</td>\n",
       "      <td>0.5087</td>\n",
       "      <td>0.4968</td>\n",
       "      <td>50.2763</td>\n",
       "      <td>50225.4861</td>\n",
       "      <td>5.5101</td>\n",
       "      <td>5.5217</td>\n",
       "      <td>2005.4885</td>\n",
       "      <td>0.4991</td>\n",
       "      <td>0.4999</td>\n",
       "      <td>5033.1039</td>\n",
       "      <td>5028.0106</td>\n",
       "      <td>553.1212</td>\n",
       "      <td>0.503</td>\n",
       "      <td>4.9946</td>\n",
       "      <td>4993447.525749963</td>\n",
       "    </tr>\n",
       "    <tr>\n",
       "      <th>2</th>\n",
       "      <td>stddev</td>\n",
       "      <td>28774.37535029503</td>\n",
       "      <td>28.81669636927458</td>\n",
       "      <td>0.4999493023602426</td>\n",
       "      <td>0.5000147612582521</td>\n",
       "      <td>28.88917127111252</td>\n",
       "      <td>29006.675799293178</td>\n",
       "      <td>2.87202417160515</td>\n",
       "      <td>2.8566667927002753</td>\n",
       "      <td>9.308089589340009</td>\n",
       "      <td>0.5000241918339955</td>\n",
       "      <td>0.5000249918746555</td>\n",
       "      <td>2876.7295448116365</td>\n",
       "      <td>2894.3322098165813</td>\n",
       "      <td>262.0501698906411</td>\n",
       "      <td>0.5000160013441162</td>\n",
       "      <td>3.1764098913678978</td>\n",
       "      <td>2877424.109945015</td>\n",
       "    </tr>\n",
       "    <tr>\n",
       "      <th>3</th>\n",
       "      <td>min</td>\n",
       "      <td>89</td>\n",
       "      <td>1</td>\n",
       "      <td>0</td>\n",
       "      <td>0</td>\n",
       "      <td>1</td>\n",
       "      <td>3</td>\n",
       "      <td>1</td>\n",
       "      <td>1</td>\n",
       "      <td>1990</td>\n",
       "      <td>0</td>\n",
       "      <td>0</td>\n",
       "      <td>0</td>\n",
       "      <td>1</td>\n",
       "      <td>100</td>\n",
       "      <td>0</td>\n",
       "      <td>0</td>\n",
       "      <td>10313.5</td>\n",
       "    </tr>\n",
       "    <tr>\n",
       "      <th>4</th>\n",
       "      <td>max</td>\n",
       "      <td>99999</td>\n",
       "      <td>100</td>\n",
       "      <td>1</td>\n",
       "      <td>1</td>\n",
       "      <td>100</td>\n",
       "      <td>99953</td>\n",
       "      <td>10</td>\n",
       "      <td>10</td>\n",
       "      <td>2021</td>\n",
       "      <td>1</td>\n",
       "      <td>1</td>\n",
       "      <td>10000</td>\n",
       "      <td>10000</td>\n",
       "      <td>1000</td>\n",
       "      <td>1</td>\n",
       "      <td>10</td>\n",
       "      <td>1.00067712E7</td>\n",
       "    </tr>\n",
       "  </tbody>\n",
       "</table>\n",
       "</div>"
      ],
      "text/plain": [
       "  summary       squareMeters      numberOfRooms             hasYard             hasPool             floors            cityCode     cityPartRange       numPrevOwners               made          isNewBuilt   hasStormProtector            basement               attic             garage      hasStorageRoom        hasGuestRoom              price\n",
       "0   count              10000              10000               10000               10000              10000               10000             10000               10000              10000               10000               10000               10000               10000              10000               10000               10000              10000\n",
       "1    mean         49870.1312            50.3584              0.5087              0.4968            50.2763          50225.4861            5.5101              5.5217          2005.4885              0.4991              0.4999           5033.1039           5028.0106           553.1212               0.503              4.9946  4993447.525749963\n",
       "2  stddev  28774.37535029503  28.81669636927458  0.4999493023602426  0.5000147612582521  28.88917127111252  29006.675799293178  2.87202417160515  2.8566667927002753  9.308089589340009  0.5000241918339955  0.5000249918746555  2876.7295448116365  2894.3322098165813  262.0501698906411  0.5000160013441162  3.1764098913678978  2877424.109945015\n",
       "3     min                 89                  1                   0                   0                  1                   3                 1                   1               1990                   0                   0                   0                   1                100                   0                   0            10313.5\n",
       "4     max              99999                100                   1                   1                100               99953                10                  10               2021                   1                   1               10000               10000               1000                   1                  10       1.00067712E7"
      ]
     },
     "execution_count": 9,
     "metadata": {},
     "output_type": "execute_result"
    }
   ],
   "source": [
    "sdf.select('squareMeters', 'numberOfRooms', 'hasYard', 'hasPool', 'floors', 'cityCode', 'cityPartRange', 'numPrevOwners', 'made', 'isNewBuilt', 'hasStormProtector', 'basement', 'attic', 'garage', 'hasStorageRoom', 'hasGuestRoom', 'price').describe().to_pandas_on_spark()"
   ]
  },
  {
   "cell_type": "code",
   "execution_count": 10,
   "id": "9656142f-10bd-49e4-8b07-3013bca45b65",
   "metadata": {
    "tags": []
   },
   "outputs": [
    {
     "name": "stderr",
     "output_type": "stream",
     "text": [
      "                                                                                \r"
     ]
    },
    {
     "name": "stdout",
     "output_type": "stream",
     "text": [
      "squareMeters: \n",
      " quantile_25=25079.0 quantile_50=50102.0 quantile_75=74606.0\n",
      "numberOfRooms: \n",
      " quantile_25=25.0 quantile_50=50.0 quantile_75=75.0\n",
      "hasYard: \n",
      " quantile_25=0.0 quantile_50=1.0 quantile_75=1.0\n",
      "hasPool: \n",
      " quantile_25=0.0 quantile_50=0.0 quantile_75=1.0\n",
      "floors: \n",
      " quantile_25=25.0 quantile_50=50.0 quantile_75=76.0\n",
      "cityCode: \n",
      " quantile_25=24666.0 quantile_50=50693.0 quantile_75=75681.0\n",
      "cityPartRange: \n",
      " quantile_25=3.0 quantile_50=5.0 quantile_75=8.0\n",
      "numPrevOwners: \n",
      " quantile_25=3.0 quantile_50=5.0 quantile_75=8.0\n",
      "made: \n",
      " quantile_25=1997.0 quantile_50=2005.0 quantile_75=2014.0\n",
      "isNewBuilt: \n",
      " quantile_25=0.0 quantile_50=0.0 quantile_75=1.0\n",
      "hasStormProtector: \n",
      " quantile_25=0.0 quantile_50=0.0 quantile_75=1.0\n",
      "basement: \n",
      " quantile_25=2559.0 quantile_50=5092.0 quantile_75=7511.0\n",
      "attic: \n",
      " quantile_25=2512.0 quantile_50=5044.0 quantile_75=7540.0\n",
      "garage: \n",
      " quantile_25=327.0 quantile_50=554.0 quantile_75=777.0\n",
      "hasStorageRoom: \n",
      " quantile_25=0.0 quantile_50=1.0 quantile_75=1.0\n",
      "hasGuestRoom: \n",
      " quantile_25=2.0 quantile_50=5.0 quantile_75=8.0\n",
      "price: \n",
      " quantile_25=2516001.9 quantile_50=5015729.8 quantile_75=7468927.3\n"
     ]
    }
   ],
   "source": [
    "quantile = sdf.approxQuantile(sdf.columns, [0.25, 0.5, 0.75], 0)\n",
    "for i in range(len(sdf.columns)):\n",
    "    print(f'{sdf.columns[i]}: \\n quantile_25={quantile[i][0]} quantile_50={quantile[i][1]} quantile_75={quantile[i][2]}')"
   ]
  },
  {
   "cell_type": "code",
   "execution_count": 11,
   "id": "c36308f4-c48d-495a-8504-4e7f224a7d8f",
   "metadata": {},
   "outputs": [
    {
     "name": "stderr",
     "output_type": "stream",
     "text": [
      "Traceback (most recent call last):                                              \n",
      "  File \"/usr/local/spark/python/lib/pyspark.zip/pyspark/daemon.py\", line 186, in manager\n",
      "  File \"/usr/local/spark/python/lib/pyspark.zip/pyspark/daemon.py\", line 74, in worker\n",
      "  File \"/usr/local/spark/python/lib/pyspark.zip/pyspark/worker.py\", line 663, in main\n",
      "    if read_int(infile) == SpecialLengths.END_OF_STREAM:\n",
      "  File \"/usr/local/spark/python/lib/pyspark.zip/pyspark/serializers.py\", line 564, in read_int\n",
      "    raise EOFError\n",
      "EOFError\n",
      "22/05/04 16:47:05 WARN InstanceBuilder$NativeBLAS: Failed to load implementation from:dev.ludovic.netlib.blas.JNIBLAS\n",
      "22/05/04 16:47:05 WARN InstanceBuilder$NativeBLAS: Failed to load implementation from:dev.ludovic.netlib.blas.ForeignLinkerBLAS\n",
      "                                                                                \r"
     ]
    },
    {
     "name": "stdout",
     "output_type": "stream",
     "text": [
      "[[ 1.00000000e+00  9.57277600e-03 -6.64985476e-03 -5.59433537e-03\n",
      "   1.10931387e-03 -1.54055371e-03  8.75822010e-03  1.66186661e-02\n",
      "  -7.20714802e-03 -1.06671233e-02  7.48003701e-03 -3.96028379e-03\n",
      "  -5.88037866e-04 -1.72459023e-02 -3.48628971e-03 -6.22953798e-04]\n",
      " [ 9.57277600e-03  1.00000000e+00 -1.12400597e-02  1.70154244e-02\n",
      "   2.22442495e-02  9.03965019e-03  8.34014538e-03  1.67658622e-02\n",
      "   3.97843162e-03 -2.86497594e-03 -1.65635599e-03 -1.39900157e-02\n",
      "   1.20606364e-02  2.31877803e-02 -4.75973114e-03 -1.55287913e-02]\n",
      " [-6.64985476e-03 -1.12400597e-02  1.00000000e+00  1.55140264e-02\n",
      "  -8.83125295e-04  6.75990352e-03  5.02334401e-03  4.27942172e-03\n",
      "   2.21358520e-03 -8.36996070e-03 -7.59767037e-03 -8.55807452e-03\n",
      "  -3.08491974e-03 -4.62565237e-03 -9.50601021e-03 -7.27572793e-03]\n",
      " [-5.59433537e-03  1.70154244e-02  1.55140264e-02  1.00000000e+00\n",
      "  -4.00633983e-03  8.07198022e-03  1.46125504e-02 -6.84801560e-03\n",
      "   1.89379810e-03  1.88484166e-04 -1.00130053e-03 -7.26773521e-03\n",
      "  -1.19006242e-02  4.83214694e-03  1.23844766e-03  1.12255390e-03]\n",
      " [ 1.10931387e-03  2.22442495e-02 -8.83125295e-04 -4.00633983e-03\n",
      "   1.00000000e+00  2.20735442e-03 -4.92080871e-03  2.46313651e-03\n",
      "   5.02174581e-03  2.45770308e-03 -8.56573959e-03  6.22783408e-03\n",
      "  -2.70420715e-04  1.13031189e-02  3.61551744e-03 -2.11554128e-02]\n",
      " [-1.54055371e-03  9.03965019e-03  6.75990352e-03  8.07198022e-03\n",
      "   2.20735442e-03  1.00000000e+00  1.13335848e-02 -7.54928287e-03\n",
      "   9.26634024e-03 -2.23953975e-04 -4.94149601e-03  2.65244098e-03\n",
      "  -2.01939146e-03 -2.20811701e-03  2.55425413e-03 -3.33836273e-03]\n",
      " [ 8.75822010e-03  8.34014538e-03  5.02334401e-03  1.46125504e-02\n",
      "  -4.92080871e-03  1.13335848e-02  1.00000000e+00  9.23751405e-03\n",
      "   7.74834145e-03 -1.87397372e-03  5.22376190e-03  4.74286428e-03\n",
      "   1.06957954e-02 -1.64791972e-03 -1.13379318e-02 -7.15268499e-03]\n",
      " [ 1.66186661e-02  1.67658622e-02  4.27942172e-03 -6.84801560e-03\n",
      "   2.46313651e-03 -7.54928287e-03  9.23751405e-03  1.00000000e+00\n",
      "   6.85848174e-03 -1.74201307e-02  2.52206537e-03 -8.61758991e-04\n",
      "   7.18548808e-04  2.02675521e-02  3.17068688e-02 -6.08206694e-03]\n",
      " [-7.20714802e-03  3.97843162e-03  2.21358520e-03  1.89379810e-03\n",
      "   5.02174581e-03  9.26634024e-03  7.74834145e-03  6.85848174e-03\n",
      "   1.00000000e+00 -1.67827203e-03 -6.44879940e-04 -5.50564247e-03\n",
      "   1.37726406e-02  5.68692930e-03 -7.86799261e-03 -5.43111973e-03]\n",
      " [-1.06671233e-02 -2.86497594e-03 -8.36996070e-03  1.88484166e-04\n",
      "   2.45770308e-03 -2.23953975e-04 -1.87397372e-03 -1.74201307e-02\n",
      "  -1.67827203e-03  1.00000000e+00  3.19964525e-03 -1.59864479e-02\n",
      "   2.01265169e-02  2.74930312e-03  7.01093756e-03  1.98946434e-02]\n",
      " [ 7.48003701e-03 -1.65635599e-03 -7.59767037e-03 -1.00130053e-03\n",
      "  -8.56573959e-03 -4.94149601e-03  5.22376190e-03  2.52206537e-03\n",
      "  -6.44879940e-04  3.19964525e-03  1.00000000e+00 -5.00116492e-03\n",
      "  -3.75283154e-03  3.75833950e-03  1.40122525e-03 -6.54894087e-03]\n",
      " [-3.96028379e-03 -1.39900157e-02 -8.55807452e-03 -7.26773521e-03\n",
      "   6.22783408e-03  2.65244098e-03  4.74286428e-03 -8.61758991e-04\n",
      "  -5.50564247e-03 -1.59864479e-02 -5.00116492e-03  1.00000000e+00\n",
      "  -3.17960503e-03  1.17445856e-04 -1.08152117e-02 -2.07317114e-02]\n",
      " [-5.88037866e-04  1.20606364e-02 -3.08491974e-03 -1.19006242e-02\n",
      "  -2.70420715e-04 -2.01939146e-03  1.06957954e-02  7.18548808e-04\n",
      "   1.37726406e-02  2.01265169e-02 -3.75283154e-03 -3.17960503e-03\n",
      "   1.00000000e+00 -6.10663384e-04 -7.89342339e-04 -1.19946098e-02]\n",
      " [-1.72459023e-02  2.31877803e-02 -4.62565237e-03  4.83214694e-03\n",
      "   1.13031189e-02 -2.20811701e-03 -1.64791972e-03  2.02675521e-02\n",
      "   5.68692930e-03  2.74930312e-03  3.75833950e-03  1.17445856e-04\n",
      "  -6.10663384e-04  1.00000000e+00  3.28626324e-02 -1.73161399e-02]\n",
      " [-3.48628971e-03 -4.75973114e-03 -9.50601021e-03  1.23844766e-03\n",
      "   3.61551744e-03  2.55425413e-03 -1.13379318e-02  3.17068688e-02\n",
      "  -7.86799261e-03  7.01093756e-03  1.40122525e-03 -1.08152117e-02\n",
      "  -7.89342339e-04  3.28626324e-02  1.00000000e+00  1.51855969e-02]\n",
      " [-6.22953798e-04 -1.55287913e-02 -7.27572793e-03  1.12255390e-03\n",
      "  -2.11554128e-02 -3.33836273e-03 -7.15268499e-03 -6.08206694e-03\n",
      "  -5.43111973e-03  1.98946434e-02 -6.54894087e-03 -2.07317114e-02\n",
      "  -1.19946098e-02 -1.73161399e-02  1.51855969e-02  1.00000000e+00]]\n"
     ]
    }
   ],
   "source": [
    "# correlation 相關性\n",
    "#from pyspark.ml.stat import Correlation\n",
    "from pyspark.mllib.stat import Statistics\n",
    "\n",
    "sdf_features = sdf.select('squareMeters', 'numberOfRooms', 'hasYard', 'hasPool', 'floors', 'cityCode', 'cityPartRange', 'numPrevOwners', 'made', 'isNewBuilt', 'hasStormProtector', 'basement', 'attic', 'garage', 'hasStorageRoom', 'hasGuestRoom')\n",
    "rdd_table = sdf_features.rdd.map(lambda row: row[0:])\n",
    "corr_matrix = Statistics.corr(rdd_table, method='pearson')\n",
    "print(corr_matrix)"
   ]
  },
  {
   "cell_type": "code",
   "execution_count": null,
   "id": "2d68015e-6824-4af9-89ee-d9b21f02eac7",
   "metadata": {},
   "outputs": [],
   "source": [
    "#plottong.plt(sdf.select('squareMeters'))"
   ]
  },
  {
   "cell_type": "markdown",
   "id": "24793e99-999d-4fbe-8dc0-34fc5bef496d",
   "metadata": {},
   "source": [
    "## Missing data"
   ]
  },
  {
   "cell_type": "code",
   "execution_count": 12,
   "id": "02e40d15-2f4c-482e-8015-3d9c8a3c0ba0",
   "metadata": {
    "tags": []
   },
   "outputs": [
    {
     "data": {
      "text/plain": [
       "squareMeters         0\n",
       "numberOfRooms        0\n",
       "hasYard              0\n",
       "hasPool              0\n",
       "floors               0\n",
       "cityCode             0\n",
       "cityPartRange        0\n",
       "numPrevOwners        0\n",
       "made                 0\n",
       "isNewBuilt           0\n",
       "hasStormProtector    0\n",
       "basement             0\n",
       "attic                0\n",
       "garage               0\n",
       "hasStorageRoom       0\n",
       "hasGuestRoom         0\n",
       "price                0\n",
       "dtype: int64"
      ]
     },
     "execution_count": 12,
     "metadata": {},
     "output_type": "execute_result"
    }
   ],
   "source": [
    "# missing spark_dataframe\n",
    "sdf.select([count(when(isnull(c), c)).alias(c) for c in sdf.columns]).to_pandas_on_spark().sum()"
   ]
  },
  {
   "cell_type": "code",
   "execution_count": 13,
   "id": "c0a09ea8-34d5-4f47-859b-c8ba8ada9a75",
   "metadata": {},
   "outputs": [
    {
     "name": "stdout",
     "output_type": "stream",
     "text": [
      "squareMeters 0\n",
      "numberOfRooms 0\n",
      "hasYard 0\n",
      "hasPool 0\n",
      "floors 0\n",
      "cityCode 0\n",
      "cityPartRange 0\n",
      "numPrevOwners 0\n",
      "made 0\n",
      "isNewBuilt 0\n",
      "hasStormProtector 0\n",
      "basement 0\n",
      "attic 0\n",
      "garage 0\n",
      "hasStorageRoom 0\n",
      "hasGuestRoom 0\n",
      "price 0\n"
     ]
    }
   ],
   "source": [
    "for c in sdf.columns:\n",
    "    print(c, sdf.where(col(c).isNull()).count())"
   ]
  },
  {
   "cell_type": "code",
   "execution_count": 14,
   "id": "23e6828e-2e46-4379-a70d-fe9db353c93a",
   "metadata": {},
   "outputs": [
    {
     "name": "stdout",
     "output_type": "stream",
     "text": [
      "squareMeters 0\n",
      "numberOfRooms 0\n",
      "hasYard 0\n",
      "hasPool 0\n",
      "floors 0\n",
      "cityCode 0\n",
      "cityPartRange 0\n",
      "numPrevOwners 0\n",
      "made 0\n",
      "isNewBuilt 0\n",
      "hasStormProtector 0\n",
      "basement 0\n",
      "attic 0\n",
      "garage 0\n",
      "hasStorageRoom 0\n",
      "hasGuestRoom 0\n",
      "price 0\n"
     ]
    }
   ],
   "source": [
    "for c in sdf.columns:\n",
    "    print(c, sdf.filter(col(c).isNull()).count())"
   ]
  },
  {
   "cell_type": "code",
   "execution_count": 15,
   "id": "df949575-b093-4787-bf3d-287d53b7f645",
   "metadata": {},
   "outputs": [
    {
     "data": {
      "text/plain": [
       "squareMeters         0\n",
       "numberOfRooms        0\n",
       "hasYard              0\n",
       "hasPool              0\n",
       "floors               0\n",
       "cityCode             0\n",
       "cityPartRange        0\n",
       "numPrevOwners        0\n",
       "made                 0\n",
       "isNewBuilt           0\n",
       "hasStormProtector    0\n",
       "basement             0\n",
       "attic                0\n",
       "garage               0\n",
       "hasStorageRoom       0\n",
       "hasGuestRoom         0\n",
       "price                0\n",
       "dtype: int64"
      ]
     },
     "execution_count": 15,
     "metadata": {},
     "output_type": "execute_result"
    }
   ],
   "source": [
    "# missing ps_dataframe\n",
    "psdf = sdf.to_pandas_on_spark()\n",
    "psdf.isnull().sum()"
   ]
  },
  {
   "cell_type": "markdown",
   "id": "42c07efd-2ecb-4593-b373-f45401256c95",
   "metadata": {},
   "source": [
    "## Model Prepare"
   ]
  },
  {
   "cell_type": "code",
   "execution_count": 16,
   "id": "74c307a6-1e16-4365-a173-c3d60e7b2a4f",
   "metadata": {},
   "outputs": [],
   "source": [
    "from pyspark.ml.linalg import Vectors\n",
    "from pyspark.ml.feature import VectorAssembler"
   ]
  },
  {
   "cell_type": "code",
   "execution_count": 17,
   "id": "e64f1eca-63c3-4e91-aab5-7a6022e51615",
   "metadata": {},
   "outputs": [],
   "source": [
    "from pyspark.ml.tuning import ParamGridBuilder, CrossValidator\n",
    "from pyspark.ml.evaluation import RegressionEvaluator"
   ]
  },
  {
   "cell_type": "code",
   "execution_count": 18,
   "id": "530f78ef-0861-4246-a9a6-22d2e8c13d08",
   "metadata": {},
   "outputs": [
    {
     "name": "stdout",
     "output_type": "stream",
     "text": [
      "['squareMeters', 'numberOfRooms', 'hasYard', 'hasPool', 'floors', 'cityCode', 'cityPartRange', 'numPrevOwners', 'made', 'isNewBuilt', 'hasStormProtector', 'basement', 'attic', 'garage', 'hasStorageRoom', 'hasGuestRoom']\n"
     ]
    }
   ],
   "source": [
    "features = list(sdf.columns[:-1])\n",
    "print(features)"
   ]
  },
  {
   "cell_type": "code",
   "execution_count": 19,
   "id": "c08cf538-e54c-4535-a81f-152fe4f593ba",
   "metadata": {},
   "outputs": [],
   "source": [
    "assembler = VectorAssembler(inputCols=features, \n",
    "                            outputCol='features', handleInvalid=\"keep\")"
   ]
  },
  {
   "cell_type": "code",
   "execution_count": 20,
   "id": "7d8a16f3-a1cf-4c2f-8af3-9af3313eaa2c",
   "metadata": {},
   "outputs": [
    {
     "name": "stderr",
     "output_type": "stream",
     "text": [
      "22/05/04 16:47:30 WARN package: Truncated the string representation of a plan since it was too large. This behavior can be adjusted by setting 'spark.sql.debug.maxToStringFields'.\n"
     ]
    },
    {
     "name": "stdout",
     "output_type": "stream",
     "text": [
      "+------------+-------------+-------+-------+------+--------+-------------+-------------+----+----------+-----------------+--------+-----+------+--------------+------------+---------+--------------------+\n",
      "|squareMeters|numberOfRooms|hasYard|hasPool|floors|cityCode|cityPartRange|numPrevOwners|made|isNewBuilt|hasStormProtector|basement|attic|garage|hasStorageRoom|hasGuestRoom|    price|            features|\n",
      "+------------+-------------+-------+-------+------+--------+-------------+-------------+----+----------+-----------------+--------+-----+------+--------------+------------+---------+--------------------+\n",
      "|       75523|            3|      0|      1|    63|    9373|            3|            8|2005|         0|                1|    4313| 9005|   956|             0|           7|7559081.5|[75523.0,3.0,0.0,...|\n",
      "|       80771|           39|      1|      1|    98|   39381|            8|            6|2015|         1|                0|    3653| 2436|   128|             1|           2|8085989.5|[80771.0,39.0,1.0...|\n",
      "|       55712|           58|      0|      1|    19|   34457|            6|            8|2021|         0|                0|    2937| 8852|   135|             1|           9|5574642.1|[55712.0,58.0,0.0...|\n",
      "+------------+-------------+-------+-------+------+--------+-------------+-------------+----+----------+-----------------+--------+-----+------+--------------+------------+---------+--------------------+\n",
      "only showing top 3 rows\n",
      "\n"
     ]
    }
   ],
   "source": [
    "output = assembler.transform(sdf)\n",
    "output.show(3)"
   ]
  },
  {
   "cell_type": "code",
   "execution_count": 21,
   "id": "bbd6fa7c-5240-4ad3-9fe5-735b25250b1b",
   "metadata": {},
   "outputs": [
    {
     "name": "stdout",
     "output_type": "stream",
     "text": [
      "+--------------------+---------+\n",
      "|            features|    label|\n",
      "+--------------------+---------+\n",
      "|[75523.0,3.0,0.0,...|7559081.5|\n",
      "|[80771.0,39.0,1.0...|8085989.5|\n",
      "|[55712.0,58.0,0.0...|5574642.1|\n",
      "+--------------------+---------+\n",
      "only showing top 3 rows\n",
      "\n"
     ]
    }
   ],
   "source": [
    "final_df = output.selectExpr('features', 'price as label')\n",
    "final_df.show(3)"
   ]
  },
  {
   "cell_type": "code",
   "execution_count": 22,
   "id": "c2a61552-bd4b-4a5e-b17d-b20731d4e767",
   "metadata": {},
   "outputs": [],
   "source": [
    "train_data, test_data = final_df.randomSplit([0.7, 0.3], seed=42)"
   ]
  },
  {
   "cell_type": "code",
   "execution_count": 23,
   "id": "36b34677-fee7-4376-a0ed-b882f3858852",
   "metadata": {},
   "outputs": [
    {
     "name": "stderr",
     "output_type": "stream",
     "text": [
      "                                                                                \r"
     ]
    },
    {
     "data": {
      "text/html": [
       "<div>\n",
       "<style scoped>\n",
       "    .dataframe tbody tr th:only-of-type {\n",
       "        vertical-align: middle;\n",
       "    }\n",
       "\n",
       "    .dataframe tbody tr th {\n",
       "        vertical-align: top;\n",
       "    }\n",
       "\n",
       "    .dataframe thead th {\n",
       "        text-align: right;\n",
       "    }\n",
       "</style>\n",
       "<table border=\"1\" class=\"dataframe\">\n",
       "  <thead>\n",
       "    <tr style=\"text-align: right;\">\n",
       "      <th></th>\n",
       "      <th>summary</th>\n",
       "      <th>label</th>\n",
       "    </tr>\n",
       "  </thead>\n",
       "  <tbody>\n",
       "    <tr>\n",
       "      <th>0</th>\n",
       "      <td>count</td>\n",
       "      <td>7104</td>\n",
       "    </tr>\n",
       "    <tr>\n",
       "      <th>1</th>\n",
       "      <td>mean</td>\n",
       "      <td>4966910.833741547</td>\n",
       "    </tr>\n",
       "    <tr>\n",
       "      <th>2</th>\n",
       "      <td>stddev</td>\n",
       "      <td>2886153.040712149</td>\n",
       "    </tr>\n",
       "    <tr>\n",
       "      <th>3</th>\n",
       "      <td>min</td>\n",
       "      <td>10313.5</td>\n",
       "    </tr>\n",
       "    <tr>\n",
       "      <th>4</th>\n",
       "      <td>max</td>\n",
       "      <td>1.00067712E7</td>\n",
       "    </tr>\n",
       "  </tbody>\n",
       "</table>\n",
       "</div>"
      ],
      "text/plain": [
       "  summary              label\n",
       "0   count               7104\n",
       "1    mean  4966910.833741547\n",
       "2  stddev  2886153.040712149\n",
       "3     min            10313.5\n",
       "4     max       1.00067712E7"
      ]
     },
     "execution_count": 23,
     "metadata": {},
     "output_type": "execute_result"
    }
   ],
   "source": [
    "train_data.describe().to_pandas_on_spark()"
   ]
  },
  {
   "cell_type": "code",
   "execution_count": 24,
   "id": "58cf3646-4f03-435f-a8b5-bd1794536530",
   "metadata": {},
   "outputs": [
    {
     "data": {
      "text/html": [
       "<div>\n",
       "<style scoped>\n",
       "    .dataframe tbody tr th:only-of-type {\n",
       "        vertical-align: middle;\n",
       "    }\n",
       "\n",
       "    .dataframe tbody tr th {\n",
       "        vertical-align: top;\n",
       "    }\n",
       "\n",
       "    .dataframe thead th {\n",
       "        text-align: right;\n",
       "    }\n",
       "</style>\n",
       "<table border=\"1\" class=\"dataframe\">\n",
       "  <thead>\n",
       "    <tr style=\"text-align: right;\">\n",
       "      <th></th>\n",
       "      <th>summary</th>\n",
       "      <th>label</th>\n",
       "    </tr>\n",
       "  </thead>\n",
       "  <tbody>\n",
       "    <tr>\n",
       "      <th>0</th>\n",
       "      <td>count</td>\n",
       "      <td>2896</td>\n",
       "    </tr>\n",
       "    <tr>\n",
       "      <th>1</th>\n",
       "      <td>mean</td>\n",
       "      <td>5058543.057527635</td>\n",
       "    </tr>\n",
       "    <tr>\n",
       "      <th>2</th>\n",
       "      <td>stddev</td>\n",
       "      <td>2855350.286167349</td>\n",
       "    </tr>\n",
       "    <tr>\n",
       "      <th>3</th>\n",
       "      <td>min</td>\n",
       "      <td>13229.1</td>\n",
       "    </tr>\n",
       "    <tr>\n",
       "      <th>4</th>\n",
       "      <td>max</td>\n",
       "      <td>9998411.0</td>\n",
       "    </tr>\n",
       "  </tbody>\n",
       "</table>\n",
       "</div>"
      ],
      "text/plain": [
       "  summary              label\n",
       "0   count               2896\n",
       "1    mean  5058543.057527635\n",
       "2  stddev  2855350.286167349\n",
       "3     min            13229.1\n",
       "4     max          9998411.0"
      ]
     },
     "execution_count": 24,
     "metadata": {},
     "output_type": "execute_result"
    }
   ],
   "source": [
    "test_data.describe().to_pandas_on_spark()"
   ]
  },
  {
   "cell_type": "markdown",
   "id": "626f72ec-ac8e-4a6d-b123-c8f2f71b16ac",
   "metadata": {},
   "source": [
    "## 1. Linear Regression"
   ]
  },
  {
   "cell_type": "code",
   "execution_count": 25,
   "id": "c4dbfda9-4066-4d79-9c4a-2f9b8e3a9ad8",
   "metadata": {},
   "outputs": [],
   "source": [
    "from pyspark.ml import pipeline\n",
    "from pyspark.ml.regression import LinearRegression"
   ]
  },
  {
   "cell_type": "code",
   "execution_count": 26,
   "id": "73ebe5cd-42a7-4fdc-87d0-a1f44c4505ea",
   "metadata": {},
   "outputs": [],
   "source": [
    "lr = LinearRegression()"
   ]
  },
  {
   "cell_type": "code",
   "execution_count": 27,
   "id": "0fab9f88-2b9c-4b7f-9259-46d04c127e67",
   "metadata": {},
   "outputs": [
    {
     "name": "stderr",
     "output_type": "stream",
     "text": [
      "22/05/04 16:47:39 WARN Instrumentation: [94391890] regParam is zero, which might cause numerical instability and overfitting.\n",
      "22/05/04 16:47:40 WARN InstanceBuilder$NativeLAPACK: Failed to load implementation from:dev.ludovic.netlib.lapack.JNILAPACK\n",
      "                                                                                \r"
     ]
    }
   ],
   "source": [
    "lr_model = lr.fit(train_data)"
   ]
  },
  {
   "cell_type": "code",
   "execution_count": 28,
   "id": "484ef48f-388e-42d6-a89d-9a9a65355d0f",
   "metadata": {},
   "outputs": [
    {
     "name": "stdout",
     "output_type": "stream",
     "text": [
      "+--------------------+------------------+\n",
      "|            features|        prediction|\n",
      "+--------------------+------------------+\n",
      "|[123.0,61.0,0.0,0...|13194.961464998556|\n",
      "|[143.0,27.0,0.0,0...| 17812.20253481645|\n",
      "|[149.0,28.0,1.0,1...|23825.246280130203|\n",
      "+--------------------+------------------+\n",
      "only showing top 3 rows\n",
      "\n"
     ]
    }
   ],
   "source": [
    "unpre_data = test_data.select('features')\n",
    "prediction = lr_model.transform(unpre_data)\n",
    "prediction.show(3)"
   ]
  },
  {
   "cell_type": "code",
   "execution_count": 29,
   "id": "76ede81f-89a5-450b-9ee8-b3e810753f9d",
   "metadata": {},
   "outputs": [
    {
     "name": "stdout",
     "output_type": "stream",
     "text": [
      "+--------------------+-------+------------------+\n",
      "|            features|  label|        prediction|\n",
      "+--------------------+-------+------------------+\n",
      "|[123.0,61.0,0.0,0...|13229.1|13194.961464998556|\n",
      "|[143.0,27.0,0.0,0...|17071.0| 17812.20253481645|\n",
      "|[149.0,28.0,1.0,1...|23653.1|23825.246280130203|\n",
      "+--------------------+-------+------------------+\n",
      "only showing top 3 rows\n",
      "\n"
     ]
    }
   ],
   "source": [
    "predict = lr_model.transform(test_data)\n",
    "predict.show(3)"
   ]
  },
  {
   "cell_type": "markdown",
   "id": "d617bd7d-06a1-4719-85d2-15883bc71887",
   "metadata": {},
   "source": [
    "## Evaluate Linear Regression Model"
   ]
  },
  {
   "cell_type": "code",
   "execution_count": 30,
   "id": "9561e87a-66eb-46fb-bb82-5361ec1f5093",
   "metadata": {},
   "outputs": [
    {
     "data": {
      "text/html": [
       "<div>\n",
       "<style scoped>\n",
       "    .dataframe tbody tr th:only-of-type {\n",
       "        vertical-align: middle;\n",
       "    }\n",
       "\n",
       "    .dataframe tbody tr th {\n",
       "        vertical-align: top;\n",
       "    }\n",
       "\n",
       "    .dataframe thead th {\n",
       "        text-align: right;\n",
       "    }\n",
       "</style>\n",
       "<table border=\"1\" class=\"dataframe\">\n",
       "  <thead>\n",
       "    <tr style=\"text-align: right;\">\n",
       "      <th></th>\n",
       "      <th>Coefficients</th>\n",
       "    </tr>\n",
       "  </thead>\n",
       "  <tbody>\n",
       "    <tr>\n",
       "      <th>squareMeters</th>\n",
       "      <td>100.000384</td>\n",
       "    </tr>\n",
       "    <tr>\n",
       "      <th>numberOfRooms</th>\n",
       "      <td>0.641165</td>\n",
       "    </tr>\n",
       "    <tr>\n",
       "      <th>hasYard</th>\n",
       "      <td>3006.583988</td>\n",
       "    </tr>\n",
       "    <tr>\n",
       "      <th>hasPool</th>\n",
       "      <td>2961.059771</td>\n",
       "    </tr>\n",
       "    <tr>\n",
       "      <th>floors</th>\n",
       "      <td>54.592653</td>\n",
       "    </tr>\n",
       "    <tr>\n",
       "      <th>cityCode</th>\n",
       "      <td>-0.000642</td>\n",
       "    </tr>\n",
       "    <tr>\n",
       "      <th>cityPartRange</th>\n",
       "      <td>45.508321</td>\n",
       "    </tr>\n",
       "    <tr>\n",
       "      <th>numPrevOwners</th>\n",
       "      <td>1.551113</td>\n",
       "    </tr>\n",
       "    <tr>\n",
       "      <th>made</th>\n",
       "      <td>-1.484274</td>\n",
       "    </tr>\n",
       "    <tr>\n",
       "      <th>isNewBuilt</th>\n",
       "      <td>119.845654</td>\n",
       "    </tr>\n",
       "    <tr>\n",
       "      <th>hasStormProtector</th>\n",
       "      <td>143.033090</td>\n",
       "    </tr>\n",
       "    <tr>\n",
       "      <th>basement</th>\n",
       "      <td>-0.000172</td>\n",
       "    </tr>\n",
       "    <tr>\n",
       "      <th>attic</th>\n",
       "      <td>-0.009362</td>\n",
       "    </tr>\n",
       "    <tr>\n",
       "      <th>garage</th>\n",
       "      <td>0.114752</td>\n",
       "    </tr>\n",
       "    <tr>\n",
       "      <th>hasStorageRoom</th>\n",
       "      <td>46.124020</td>\n",
       "    </tr>\n",
       "    <tr>\n",
       "      <th>hasGuestRoom</th>\n",
       "      <td>-5.183346</td>\n",
       "    </tr>\n",
       "  </tbody>\n",
       "</table>\n",
       "</div>"
      ],
      "text/plain": [
       "                   Coefficients\n",
       "squareMeters         100.000384\n",
       "numberOfRooms          0.641165\n",
       "hasYard             3006.583988\n",
       "hasPool             2961.059771\n",
       "floors                54.592653\n",
       "cityCode              -0.000642\n",
       "cityPartRange         45.508321\n",
       "numPrevOwners          1.551113\n",
       "made                  -1.484274\n",
       "isNewBuilt           119.845654\n",
       "hasStormProtector    143.033090\n",
       "basement              -0.000172\n",
       "attic                 -0.009362\n",
       "garage                 0.114752\n",
       "hasStorageRoom        46.124020\n",
       "hasGuestRoom          -5.183346"
      ]
     },
     "execution_count": 30,
     "metadata": {},
     "output_type": "execute_result"
    }
   ],
   "source": [
    "# 回歸係數\n",
    "import pandas as pd\n",
    "pd.DataFrame({'Coefficients':lr_model.coefficients}, index=sdf.columns[:-1])"
   ]
  },
  {
   "cell_type": "code",
   "execution_count": 31,
   "id": "44fc6599-3ddd-49d7-b163-ca0ad90d1de5",
   "metadata": {},
   "outputs": [],
   "source": [
    "# 評估誤差-1\n",
    "res = lr_model.evaluate(test_data)"
   ]
  },
  {
   "cell_type": "code",
   "execution_count": 32,
   "id": "c274ce86-dce1-4bcd-bb7d-f423a31c2101",
   "metadata": {},
   "outputs": [
    {
     "name": "stderr",
     "output_type": "stream",
     "text": [
      "/usr/local/spark/python/pyspark/sql/context.py:125: FutureWarning: Deprecated in 3.0.0. Use SparkSession.builder.getOrCreate() instead.\n",
      "  warnings.warn(\n"
     ]
    },
    {
     "name": "stdout",
     "output_type": "stream",
     "text": [
      "+-------------------+\n",
      "|          residuals|\n",
      "+-------------------+\n",
      "| 34.138535001444325|\n",
      "| -741.2025348164498|\n",
      "| -172.1462801302041|\n",
      "| -674.1307109770787|\n",
      "|  67.72837277026338|\n",
      "| -2661.198823280123|\n",
      "|-1191.5557354118791|\n",
      "|-355.17211949058037|\n",
      "|  748.8388887156252|\n",
      "|-1903.2873417641022|\n",
      "|-1330.3612016867992|\n",
      "| 1253.3220612419973|\n",
      "|  -1446.12624930944|\n",
      "| -402.1927624577984|\n",
      "|  39.82893388398952|\n",
      "| -646.8377220557595|\n",
      "| -2808.118655675302|\n",
      "| -1033.509804676105|\n",
      "| 1488.7461616748915|\n",
      "|-280.78234800041537|\n",
      "+-------------------+\n",
      "only showing top 20 rows\n",
      "\n"
     ]
    }
   ],
   "source": [
    "# 殘差\n",
    "res.residuals.show()"
   ]
  },
  {
   "cell_type": "code",
   "execution_count": 33,
   "id": "04e3ddfd-098f-463e-9050-8ad2abf14032",
   "metadata": {},
   "outputs": [
    {
     "name": "stdout",
     "output_type": "stream",
     "text": [
      "RAE:  1494.763464072096\n",
      "MSE:  3694918.1953876577\n",
      "RMSE:  1922.2170000776857\n",
      "r2:  0.9999995466474849\n",
      "r2adj:  0.999999544127985\n"
     ]
    }
   ],
   "source": [
    "print('RAE: ', res.meanAbsoluteError)\n",
    "print('MSE: ', res.meanSquaredError)\n",
    "print('RMSE: ', res.rootMeanSquaredError)\n",
    "print('r2: ', res.r2)\n",
    "print('r2adj: ', res.r2adj)"
   ]
  },
  {
   "cell_type": "code",
   "execution_count": 34,
   "id": "52e0e57e-4268-47d7-9e5c-73b9537a3eb0",
   "metadata": {},
   "outputs": [
    {
     "name": "stdout",
     "output_type": "stream",
     "text": [
      "1922.2170000776857\n"
     ]
    }
   ],
   "source": [
    "# 評估誤差-2\n",
    "evaluatorRMSE = RegressionEvaluator().setLabelCol('label').setPredictionCol('prediction').setMetricName('rmse')\n",
    "lr_RMSE_test = evaluatorRMSE.evaluate(predict)\n",
    "print(lr_RMSE_test)"
   ]
  },
  {
   "cell_type": "code",
   "execution_count": 35,
   "id": "1982cc00-3f73-4558-9ee0-266e2b2da89f",
   "metadata": {},
   "outputs": [
    {
     "data": {
      "text/plain": [
       "0.9999995466474849"
      ]
     },
     "execution_count": 35,
     "metadata": {},
     "output_type": "execute_result"
    }
   ],
   "source": [
    "evaluatorR2 = RegressionEvaluator().setLabelCol('label').setPredictionCol('prediction').setMetricName('r2')\n",
    "lr_R2 = evaluatorR2.evaluate(predict)\n",
    "lr_R2"
   ]
  },
  {
   "cell_type": "markdown",
   "id": "e667dceb-10ae-424c-adf7-9718b8575faf",
   "metadata": {},
   "source": [
    "## 2. Random Forest"
   ]
  },
  {
   "cell_type": "code",
   "execution_count": 36,
   "id": "6aeaffb8-9905-45fe-b3be-9e58b599f8a4",
   "metadata": {},
   "outputs": [],
   "source": [
    "from pyspark.ml.regression import RandomForestRegressor"
   ]
  },
  {
   "cell_type": "code",
   "execution_count": 37,
   "id": "2078bd28-cd9b-435b-90ed-66be4a37cc8b",
   "metadata": {},
   "outputs": [],
   "source": [
    "rf = RandomForestRegressor()"
   ]
  },
  {
   "cell_type": "code",
   "execution_count": 38,
   "id": "fd3d166e-544c-4e68-bbd4-ee9217d5d013",
   "metadata": {},
   "outputs": [
    {
     "name": "stderr",
     "output_type": "stream",
     "text": [
      "                                                                                \r"
     ]
    }
   ],
   "source": [
    "rf_model = rf.fit(train_data)"
   ]
  },
  {
   "cell_type": "code",
   "execution_count": 39,
   "id": "234c510b-d893-4976-9184-09841b5f1718",
   "metadata": {},
   "outputs": [
    {
     "name": "stdout",
     "output_type": "stream",
     "text": [
      "+--------------------+-------+------------------+\n",
      "|            features|  label|        prediction|\n",
      "+--------------------+-------+------------------+\n",
      "|[123.0,61.0,0.0,0...|13229.1|1448624.5544290647|\n",
      "|[143.0,27.0,0.0,0...|17071.0|1602939.1396955396|\n",
      "|[149.0,28.0,1.0,1...|23653.1|1405611.2925890624|\n",
      "+--------------------+-------+------------------+\n",
      "only showing top 3 rows\n",
      "\n"
     ]
    }
   ],
   "source": [
    "rf_prediction = rf_model.transform(test_data)\n",
    "rf_prediction.show(3)"
   ]
  },
  {
   "cell_type": "markdown",
   "id": "6a14714d-f64a-413d-9dcc-4cb266e6a31f",
   "metadata": {},
   "source": [
    "## Evaluate Random Forest Model"
   ]
  },
  {
   "cell_type": "code",
   "execution_count": 40,
   "id": "8afa7fa4-84f8-41cb-b39d-7ca1ca1e422c",
   "metadata": {},
   "outputs": [
    {
     "name": "stdout",
     "output_type": "stream",
     "text": [
      "rf_RMSE: 1922.2170000776857\n"
     ]
    }
   ],
   "source": [
    "rf_RMSE = evaluatorRMSE.evaluate(predict)\n",
    "print('rf_RMSE:', rf_RMSE)"
   ]
  },
  {
   "cell_type": "code",
   "execution_count": 41,
   "id": "424c2b79-956a-4c29-80d4-c3620d10ce7e",
   "metadata": {},
   "outputs": [
    {
     "name": "stdout",
     "output_type": "stream",
     "text": [
      "rf_R2: 0.9999995466474849\n"
     ]
    }
   ],
   "source": [
    "rf_R2 = evaluatorR2.evaluate(predict)\n",
    "print('rf_R2:', rf_R2)"
   ]
  },
  {
   "cell_type": "markdown",
   "id": "37931972-e669-4c9f-a299-80177590dd85",
   "metadata": {},
   "source": [
    "## Hyperparameter Tuning"
   ]
  },
  {
   "cell_type": "code",
   "execution_count": 43,
   "id": "de563a4c-2840-44b3-a9b1-0bcdb9ecafb2",
   "metadata": {},
   "outputs": [],
   "source": [
    "paramGrid = (ParamGridBuilder()\n",
    "            .addGrid(rf.maxDepth, [10,30])\n",
    "            .addGrid(rf.maxBins, [10,15])\n",
    "            .addGrid(rf.numTrees, [8])\n",
    "            .build())"
   ]
  },
  {
   "cell_type": "code",
   "execution_count": 45,
   "id": "d936f588-49c3-4be8-9f7a-274470b7c21f",
   "metadata": {},
   "outputs": [],
   "source": [
    "evaluator = RegressionEvaluator()"
   ]
  },
  {
   "cell_type": "code",
   "execution_count": 46,
   "id": "3d938427-022a-4d02-b512-49d49d9c9b3d",
   "metadata": {},
   "outputs": [],
   "source": [
    "cv = CrossValidator(estimator=rf, estimatorParamMaps=paramGrid,\n",
    "                   evaluator=evaluator, numFolds=7)"
   ]
  },
  {
   "cell_type": "code",
   "execution_count": 47,
   "id": "6c90b6e7-179a-4bd0-8801-b49286c6d09c",
   "metadata": {},
   "outputs": [
    {
     "name": "stderr",
     "output_type": "stream",
     "text": [
      "22/05/04 16:52:56 WARN DAGScheduler: Broadcasting large task binary with size 1168.0 KiB\n",
      "22/05/04 16:53:01 WARN DAGScheduler: Broadcasting large task binary with size 1109.2 KiB\n",
      "22/05/04 16:53:06 WARN DAGScheduler: Broadcasting large task binary with size 1168.0 KiB\n",
      "22/05/04 16:53:07 WARN DAGScheduler: Broadcasting large task binary with size 1874.7 KiB\n",
      "22/05/04 16:53:08 WARN DAGScheduler: Broadcasting large task binary with size 2.7 MiB\n",
      "22/05/04 16:53:10 WARN DAGScheduler: Broadcasting large task binary with size 3.8 MiB\n",
      "22/05/04 16:53:12 WARN DAGScheduler: Broadcasting large task binary with size 4.9 MiB\n",
      "22/05/04 16:53:14 WARN DAGScheduler: Broadcasting large task binary with size 5.8 MiB\n",
      "22/05/04 16:53:16 WARN DAGScheduler: Broadcasting large task binary with size 6.6 MiB\n",
      "22/05/04 16:53:18 WARN DAGScheduler: Broadcasting large task binary with size 7.2 MiB\n",
      "22/05/04 16:53:19 WARN DAGScheduler: Broadcasting large task binary with size 7.6 MiB\n",
      "22/05/04 16:53:21 WARN DAGScheduler: Broadcasting large task binary with size 7.9 MiB\n",
      "22/05/04 16:53:23 WARN DAGScheduler: Broadcasting large task binary with size 8.0 MiB\n",
      "22/05/04 16:53:24 WARN DAGScheduler: Broadcasting large task binary with size 8.1 MiB\n",
      "22/05/04 16:53:25 WARN DAGScheduler: Broadcasting large task binary with size 8.1 MiB\n",
      "22/05/04 16:53:27 WARN DAGScheduler: Broadcasting large task binary with size 8.1 MiB\n",
      "22/05/04 16:53:28 WARN DAGScheduler: Broadcasting large task binary with size 6.1 MiB\n",
      "22/05/04 16:53:29 WARN DAGScheduler: Broadcasting large task binary with size 4.1 MiB\n",
      "22/05/04 16:53:29 WARN DAGScheduler: Broadcasting large task binary with size 2.1 MiB\n",
      "22/05/04 16:53:30 WARN DAGScheduler: Broadcasting large task binary with size 1133.1 KiB\n",
      "22/05/04 16:53:34 WARN DAGScheduler: Broadcasting large task binary with size 1109.2 KiB\n",
      "22/05/04 16:53:35 WARN DAGScheduler: Broadcasting large task binary with size 1770.3 KiB\n",
      "22/05/04 16:53:36 WARN DAGScheduler: Broadcasting large task binary with size 2.6 MiB\n",
      "22/05/04 16:53:37 WARN DAGScheduler: Broadcasting large task binary with size 3.6 MiB\n",
      "22/05/04 16:53:39 WARN DAGScheduler: Broadcasting large task binary with size 4.6 MiB\n",
      "22/05/04 16:53:41 WARN DAGScheduler: Broadcasting large task binary with size 5.6 MiB\n",
      "22/05/04 16:53:43 WARN DAGScheduler: Broadcasting large task binary with size 6.5 MiB\n",
      "22/05/04 16:53:45 WARN DAGScheduler: Broadcasting large task binary with size 7.1 MiB\n",
      "22/05/04 16:53:47 WARN DAGScheduler: Broadcasting large task binary with size 7.6 MiB\n",
      "22/05/04 16:53:49 WARN DAGScheduler: Broadcasting large task binary with size 7.9 MiB\n",
      "22/05/04 16:53:50 WARN DAGScheduler: Broadcasting large task binary with size 8.0 MiB\n",
      "22/05/04 16:53:52 WARN DAGScheduler: Broadcasting large task binary with size 8.1 MiB\n",
      "22/05/04 16:53:53 WARN DAGScheduler: Broadcasting large task binary with size 8.1 MiB\n",
      "22/05/04 16:53:54 WARN DAGScheduler: Broadcasting large task binary with size 6.1 MiB\n",
      "22/05/04 16:53:55 WARN DAGScheduler: Broadcasting large task binary with size 4.1 MiB\n",
      "22/05/04 16:53:56 WARN DAGScheduler: Broadcasting large task binary with size 2.1 MiB\n",
      "22/05/04 16:54:00 WARN DAGScheduler: Broadcasting large task binary with size 1105.7 KiB\n",
      "22/05/04 16:54:05 WARN DAGScheduler: Broadcasting large task binary with size 1089.6 KiB\n",
      "22/05/04 16:54:10 WARN DAGScheduler: Broadcasting large task binary with size 1105.7 KiB\n",
      "22/05/04 16:54:11 WARN DAGScheduler: Broadcasting large task binary with size 1783.0 KiB\n",
      "22/05/04 16:54:12 WARN DAGScheduler: Broadcasting large task binary with size 2.6 MiB\n",
      "22/05/04 16:54:13 WARN DAGScheduler: Broadcasting large task binary with size 3.6 MiB\n",
      "22/05/04 16:54:15 WARN DAGScheduler: Broadcasting large task binary with size 4.7 MiB\n",
      "22/05/04 16:54:17 WARN DAGScheduler: Broadcasting large task binary with size 5.7 MiB\n",
      "22/05/04 16:54:19 WARN DAGScheduler: Broadcasting large task binary with size 6.5 MiB\n",
      "22/05/04 16:54:21 WARN DAGScheduler: Broadcasting large task binary with size 7.1 MiB\n",
      "22/05/04 16:54:22 WARN DAGScheduler: Broadcasting large task binary with size 7.5 MiB\n",
      "22/05/04 16:54:24 WARN DAGScheduler: Broadcasting large task binary with size 7.8 MiB\n",
      "22/05/04 16:54:25 WARN DAGScheduler: Broadcasting large task binary with size 8.0 MiB\n",
      "22/05/04 16:54:27 WARN DAGScheduler: Broadcasting large task binary with size 8.0 MiB\n",
      "22/05/04 16:54:28 WARN DAGScheduler: Broadcasting large task binary with size 8.1 MiB\n",
      "22/05/04 16:54:29 WARN DAGScheduler: Broadcasting large task binary with size 7.1 MiB\n",
      "22/05/04 16:54:30 WARN DAGScheduler: Broadcasting large task binary with size 4.1 MiB\n",
      "22/05/04 16:54:31 WARN DAGScheduler: Broadcasting large task binary with size 4.1 MiB\n",
      "22/05/04 16:54:32 WARN DAGScheduler: Broadcasting large task binary with size 3.1 MiB\n",
      "22/05/04 16:54:36 WARN DAGScheduler: Broadcasting large task binary with size 1089.6 KiB\n",
      "22/05/04 16:54:37 WARN DAGScheduler: Broadcasting large task binary with size 1735.8 KiB\n",
      "22/05/04 16:54:38 WARN DAGScheduler: Broadcasting large task binary with size 2.5 MiB\n",
      "22/05/04 16:54:39 WARN DAGScheduler: Broadcasting large task binary with size 3.5 MiB\n",
      "22/05/04 16:54:41 WARN DAGScheduler: Broadcasting large task binary with size 4.5 MiB\n",
      "22/05/04 16:54:43 WARN DAGScheduler: Broadcasting large task binary with size 5.5 MiB\n",
      "22/05/04 16:54:45 WARN DAGScheduler: Broadcasting large task binary with size 6.4 MiB\n",
      "22/05/04 16:54:47 WARN DAGScheduler: Broadcasting large task binary with size 7.1 MiB\n",
      "22/05/04 16:54:49 WARN DAGScheduler: Broadcasting large task binary with size 7.6 MiB\n",
      "22/05/04 16:54:50 WARN DAGScheduler: Broadcasting large task binary with size 7.8 MiB\n",
      "22/05/04 16:54:52 WARN DAGScheduler: Broadcasting large task binary with size 8.0 MiB\n",
      "22/05/04 16:54:53 WARN DAGScheduler: Broadcasting large task binary with size 8.1 MiB\n",
      "22/05/04 16:54:55 WARN DAGScheduler: Broadcasting large task binary with size 8.1 MiB\n",
      "22/05/04 16:54:56 WARN DAGScheduler: Broadcasting large task binary with size 8.1 MiB\n",
      "22/05/04 16:54:57 WARN DAGScheduler: Broadcasting large task binary with size 5.1 MiB\n",
      "22/05/04 16:54:58 WARN DAGScheduler: Broadcasting large task binary with size 2.1 MiB\n",
      "22/05/04 16:55:02 WARN DAGScheduler: Broadcasting large task binary with size 1187.0 KiB\n",
      "22/05/04 16:55:07 WARN DAGScheduler: Broadcasting large task binary with size 1151.1 KiB\n",
      "22/05/04 16:55:11 WARN DAGScheduler: Broadcasting large task binary with size 1187.0 KiB\n",
      "22/05/04 16:55:12 WARN DAGScheduler: Broadcasting large task binary with size 1909.1 KiB\n",
      "22/05/04 16:55:13 WARN DAGScheduler: Broadcasting large task binary with size 2.8 MiB\n",
      "22/05/04 16:55:15 WARN DAGScheduler: Broadcasting large task binary with size 3.9 MiB\n",
      "22/05/04 16:55:17 WARN DAGScheduler: Broadcasting large task binary with size 5.0 MiB\n",
      "22/05/04 16:55:19 WARN DAGScheduler: Broadcasting large task binary with size 5.9 MiB\n",
      "22/05/04 16:55:21 WARN DAGScheduler: Broadcasting large task binary with size 6.7 MiB\n",
      "22/05/04 16:55:23 WARN DAGScheduler: Broadcasting large task binary with size 7.3 MiB\n",
      "22/05/04 16:55:24 WARN DAGScheduler: Broadcasting large task binary with size 7.6 MiB\n",
      "22/05/04 16:55:26 WARN DAGScheduler: Broadcasting large task binary with size 7.9 MiB\n",
      "22/05/04 16:55:28 WARN DAGScheduler: Broadcasting large task binary with size 8.0 MiB\n",
      "22/05/04 16:55:29 WARN DAGScheduler: Broadcasting large task binary with size 8.0 MiB\n",
      "22/05/04 16:55:31 WARN DAGScheduler: Broadcasting large task binary with size 8.1 MiB\n",
      "22/05/04 16:55:32 WARN DAGScheduler: Broadcasting large task binary with size 6.1 MiB\n",
      "22/05/04 16:55:33 WARN DAGScheduler: Broadcasting large task binary with size 4.1 MiB\n",
      "22/05/04 16:55:33 WARN DAGScheduler: Broadcasting large task binary with size 2.1 MiB\n",
      "22/05/04 16:55:33 WARN DAGScheduler: Broadcasting large task binary with size 2.1 MiB\n",
      "22/05/04 16:55:38 WARN DAGScheduler: Broadcasting large task binary with size 1151.1 KiB\n",
      "22/05/04 16:55:39 WARN DAGScheduler: Broadcasting large task binary with size 1849.8 KiB\n",
      "22/05/04 16:55:40 WARN DAGScheduler: Broadcasting large task binary with size 2.7 MiB\n",
      "22/05/04 16:55:42 WARN DAGScheduler: Broadcasting large task binary with size 3.8 MiB\n",
      "22/05/04 16:55:44 WARN DAGScheduler: Broadcasting large task binary with size 4.8 MiB\n",
      "22/05/04 16:55:46 WARN DAGScheduler: Broadcasting large task binary with size 5.8 MiB\n",
      "22/05/04 16:55:48 WARN DAGScheduler: Broadcasting large task binary with size 6.6 MiB\n",
      "22/05/04 16:55:51 WARN DAGScheduler: Broadcasting large task binary with size 7.2 MiB\n",
      "22/05/04 16:55:52 WARN DAGScheduler: Broadcasting large task binary with size 7.6 MiB\n",
      "22/05/04 16:55:54 WARN DAGScheduler: Broadcasting large task binary with size 7.8 MiB\n",
      "22/05/04 16:55:56 WARN DAGScheduler: Broadcasting large task binary with size 8.0 MiB\n",
      "22/05/04 16:55:57 WARN DAGScheduler: Broadcasting large task binary with size 8.0 MiB\n",
      "22/05/04 16:55:59 WARN DAGScheduler: Broadcasting large task binary with size 8.1 MiB\n",
      "22/05/04 16:56:00 WARN DAGScheduler: Broadcasting large task binary with size 8.1 MiB\n",
      "22/05/04 16:56:01 WARN DAGScheduler: Broadcasting large task binary with size 4.1 MiB\n",
      "22/05/04 16:56:01 WARN DAGScheduler: Broadcasting large task binary with size 2.1 MiB\n",
      "22/05/04 16:56:02 WARN DAGScheduler: Broadcasting large task binary with size 1134.0 KiB\n",
      "22/05/04 16:56:06 WARN DAGScheduler: Broadcasting large task binary with size 1188.4 KiB\n",
      "22/05/04 16:56:11 WARN DAGScheduler: Broadcasting large task binary with size 1139.5 KiB\n",
      "22/05/04 16:56:16 WARN DAGScheduler: Broadcasting large task binary with size 1188.4 KiB\n",
      "22/05/04 16:56:17 WARN DAGScheduler: Broadcasting large task binary with size 1927.4 KiB\n",
      "22/05/04 16:56:18 WARN DAGScheduler: Broadcasting large task binary with size 2.8 MiB\n",
      "22/05/04 16:56:20 WARN DAGScheduler: Broadcasting large task binary with size 4.0 MiB\n",
      "22/05/04 16:56:21 WARN DAGScheduler: Broadcasting large task binary with size 5.1 MiB\n",
      "22/05/04 16:56:23 WARN DAGScheduler: Broadcasting large task binary with size 6.1 MiB\n",
      "22/05/04 16:56:25 WARN DAGScheduler: Broadcasting large task binary with size 6.9 MiB\n",
      "22/05/04 16:56:27 WARN DAGScheduler: Broadcasting large task binary with size 7.4 MiB\n",
      "22/05/04 16:56:29 WARN DAGScheduler: Broadcasting large task binary with size 7.8 MiB\n",
      "22/05/04 16:56:31 WARN DAGScheduler: Broadcasting large task binary with size 8.0 MiB\n",
      "22/05/04 16:56:32 WARN DAGScheduler: Broadcasting large task binary with size 8.1 MiB\n",
      "22/05/04 16:56:34 WARN DAGScheduler: Broadcasting large task binary with size 8.1 MiB\n",
      "22/05/04 16:56:35 WARN DAGScheduler: Broadcasting large task binary with size 8.2 MiB\n",
      "22/05/04 16:56:36 WARN DAGScheduler: Broadcasting large task binary with size 7.1 MiB\n",
      "22/05/04 16:56:37 WARN DAGScheduler: Broadcasting large task binary with size 2.1 MiB\n",
      "22/05/04 16:56:37 WARN DAGScheduler: Broadcasting large task binary with size 1123.4 KiB\n",
      "22/05/04 16:56:37 WARN DAGScheduler: Broadcasting large task binary with size 1124.4 KiB\n",
      "22/05/04 16:56:38 WARN DAGScheduler: Broadcasting large task binary with size 1124.9 KiB\n",
      "22/05/04 16:56:38 WARN DAGScheduler: Broadcasting large task binary with size 1125.4 KiB\n",
      "22/05/04 16:56:42 WARN DAGScheduler: Broadcasting large task binary with size 1139.5 KiB\n",
      "22/05/04 16:56:43 WARN DAGScheduler: Broadcasting large task binary with size 1834.5 KiB\n",
      "22/05/04 16:56:44 WARN DAGScheduler: Broadcasting large task binary with size 2.7 MiB\n",
      "22/05/04 16:56:46 WARN DAGScheduler: Broadcasting large task binary with size 3.7 MiB\n",
      "22/05/04 16:56:48 WARN DAGScheduler: Broadcasting large task binary with size 4.8 MiB\n",
      "22/05/04 16:56:50 WARN DAGScheduler: Broadcasting large task binary with size 5.8 MiB\n",
      "22/05/04 16:56:52 WARN DAGScheduler: Broadcasting large task binary with size 6.7 MiB\n",
      "22/05/04 16:56:54 WARN DAGScheduler: Broadcasting large task binary with size 7.3 MiB\n",
      "22/05/04 16:56:56 WARN DAGScheduler: Broadcasting large task binary with size 7.7 MiB\n",
      "22/05/04 16:56:58 WARN DAGScheduler: Broadcasting large task binary with size 7.9 MiB\n",
      "22/05/04 16:57:00 WARN DAGScheduler: Broadcasting large task binary with size 8.1 MiB\n",
      "22/05/04 16:57:01 WARN DAGScheduler: Broadcasting large task binary with size 8.1 MiB\n",
      "22/05/04 16:57:03 WARN DAGScheduler: Broadcasting large task binary with size 8.2 MiB\n",
      "22/05/04 16:57:04 WARN DAGScheduler: Broadcasting large task binary with size 7.2 MiB\n",
      "22/05/04 16:57:05 WARN DAGScheduler: Broadcasting large task binary with size 6.1 MiB\n",
      "22/05/04 16:57:06 WARN DAGScheduler: Broadcasting large task binary with size 5.1 MiB\n",
      "22/05/04 16:57:06 WARN DAGScheduler: Broadcasting large task binary with size 1143.0 KiB\n",
      "22/05/04 16:57:07 WARN DAGScheduler: Broadcasting large task binary with size 1143.2 KiB\n",
      "22/05/04 16:57:12 WARN DAGScheduler: Broadcasting large task binary with size 1123.0 KiB\n",
      "22/05/04 16:57:16 WARN DAGScheduler: Broadcasting large task binary with size 1112.9 KiB\n",
      "22/05/04 16:57:20 WARN DAGScheduler: Broadcasting large task binary with size 1123.0 KiB\n",
      "22/05/04 16:57:21 WARN DAGScheduler: Broadcasting large task binary with size 1793.4 KiB\n",
      "22/05/04 16:57:23 WARN DAGScheduler: Broadcasting large task binary with size 2.6 MiB\n",
      "22/05/04 16:57:24 WARN DAGScheduler: Broadcasting large task binary with size 3.6 MiB\n",
      "22/05/04 16:57:26 WARN DAGScheduler: Broadcasting large task binary with size 4.7 MiB\n",
      "22/05/04 16:57:28 WARN DAGScheduler: Broadcasting large task binary with size 5.6 MiB\n",
      "22/05/04 16:57:30 WARN DAGScheduler: Broadcasting large task binary with size 6.5 MiB\n",
      "22/05/04 16:57:32 WARN DAGScheduler: Broadcasting large task binary with size 7.1 MiB\n",
      "22/05/04 16:57:33 WARN DAGScheduler: Broadcasting large task binary with size 7.5 MiB\n",
      "22/05/04 16:57:35 WARN DAGScheduler: Broadcasting large task binary with size 7.8 MiB\n",
      "22/05/04 16:57:37 WARN DAGScheduler: Broadcasting large task binary with size 7.9 MiB\n",
      "22/05/04 16:57:38 WARN DAGScheduler: Broadcasting large task binary with size 8.0 MiB\n",
      "22/05/04 16:57:39 WARN DAGScheduler: Broadcasting large task binary with size 8.1 MiB\n",
      "22/05/04 16:57:41 WARN DAGScheduler: Broadcasting large task binary with size 8.1 MiB\n",
      "22/05/04 16:57:42 WARN DAGScheduler: Broadcasting large task binary with size 8.1 MiB\n",
      "22/05/04 16:57:44 WARN DAGScheduler: Broadcasting large task binary with size 8.1 MiB\n",
      "22/05/04 16:57:45 WARN DAGScheduler: Broadcasting large task binary with size 5.1 MiB\n",
      "22/05/04 16:57:45 WARN DAGScheduler: Broadcasting large task binary with size 2.1 MiB\n",
      "22/05/04 16:57:50 WARN DAGScheduler: Broadcasting large task binary with size 1112.9 KiB\n",
      "22/05/04 16:57:51 WARN DAGScheduler: Broadcasting large task binary with size 1778.5 KiB\n",
      "22/05/04 16:57:52 WARN DAGScheduler: Broadcasting large task binary with size 2.6 MiB\n",
      "22/05/04 16:57:54 WARN DAGScheduler: Broadcasting large task binary with size 3.6 MiB\n",
      "22/05/04 16:57:56 WARN DAGScheduler: Broadcasting large task binary with size 4.6 MiB\n",
      "22/05/04 16:57:58 WARN DAGScheduler: Broadcasting large task binary with size 5.6 MiB\n",
      "22/05/04 16:58:00 WARN DAGScheduler: Broadcasting large task binary with size 6.4 MiB\n",
      "22/05/04 16:58:02 WARN DAGScheduler: Broadcasting large task binary with size 7.0 MiB\n",
      "22/05/04 16:58:05 WARN DAGScheduler: Broadcasting large task binary with size 7.5 MiB\n",
      "22/05/04 16:58:07 WARN DAGScheduler: Broadcasting large task binary with size 7.8 MiB\n",
      "22/05/04 16:58:09 WARN DAGScheduler: Broadcasting large task binary with size 7.9 MiB\n",
      "22/05/04 16:58:11 WARN DAGScheduler: Broadcasting large task binary with size 8.0 MiB\n",
      "22/05/04 16:58:12 WARN DAGScheduler: Broadcasting large task binary with size 8.1 MiB\n",
      "22/05/04 16:58:14 WARN DAGScheduler: Broadcasting large task binary with size 8.1 MiB\n",
      "22/05/04 16:58:15 WARN DAGScheduler: Broadcasting large task binary with size 8.1 MiB\n",
      "22/05/04 16:58:17 WARN DAGScheduler: Broadcasting large task binary with size 6.1 MiB\n",
      "22/05/04 16:58:17 WARN DAGScheduler: Broadcasting large task binary with size 2.1 MiB\n",
      "22/05/04 16:58:18 WARN DAGScheduler: Broadcasting large task binary with size 1133.0 KiB\n",
      "22/05/04 16:58:23 WARN DAGScheduler: Broadcasting large task binary with size 1123.2 KiB\n",
      "22/05/04 16:58:27 WARN DAGScheduler: Broadcasting large task binary with size 1129.8 KiB\n",
      "22/05/04 16:58:32 WARN DAGScheduler: Broadcasting large task binary with size 1123.2 KiB\n",
      "22/05/04 16:58:33 WARN DAGScheduler: Broadcasting large task binary with size 1806.0 KiB\n",
      "22/05/04 16:58:34 WARN DAGScheduler: Broadcasting large task binary with size 2.7 MiB\n",
      "22/05/04 16:58:36 WARN DAGScheduler: Broadcasting large task binary with size 3.7 MiB\n",
      "22/05/04 16:58:37 WARN DAGScheduler: Broadcasting large task binary with size 4.8 MiB\n",
      "22/05/04 16:58:40 WARN DAGScheduler: Broadcasting large task binary with size 5.8 MiB\n",
      "22/05/04 16:58:42 WARN DAGScheduler: Broadcasting large task binary with size 6.7 MiB\n",
      "22/05/04 16:58:44 WARN DAGScheduler: Broadcasting large task binary with size 7.3 MiB\n",
      "22/05/04 16:58:45 WARN DAGScheduler: Broadcasting large task binary with size 7.7 MiB\n",
      "22/05/04 16:58:47 WARN DAGScheduler: Broadcasting large task binary with size 7.9 MiB\n",
      "22/05/04 16:58:49 WARN DAGScheduler: Broadcasting large task binary with size 8.1 MiB\n",
      "22/05/04 16:58:50 WARN DAGScheduler: Broadcasting large task binary with size 8.1 MiB\n",
      "22/05/04 16:58:51 WARN DAGScheduler: Broadcasting large task binary with size 8.2 MiB\n",
      "22/05/04 16:58:53 WARN DAGScheduler: Broadcasting large task binary with size 6.2 MiB\n",
      "22/05/04 16:58:54 WARN DAGScheduler: Broadcasting large task binary with size 5.1 MiB\n",
      "22/05/04 16:58:55 WARN DAGScheduler: Broadcasting large task binary with size 4.1 MiB\n",
      "22/05/04 16:58:55 WARN DAGScheduler: Broadcasting large task binary with size 1138.6 KiB\n",
      "22/05/04 16:58:59 WARN DAGScheduler: Broadcasting large task binary with size 1129.8 KiB\n",
      "22/05/04 16:59:00 WARN DAGScheduler: Broadcasting large task binary with size 1817.1 KiB\n",
      "22/05/04 16:59:02 WARN DAGScheduler: Broadcasting large task binary with size 2.7 MiB\n",
      "22/05/04 16:59:03 WARN DAGScheduler: Broadcasting large task binary with size 3.7 MiB\n",
      "22/05/04 16:59:05 WARN DAGScheduler: Broadcasting large task binary with size 4.8 MiB\n",
      "22/05/04 16:59:08 WARN DAGScheduler: Broadcasting large task binary with size 5.8 MiB\n",
      "22/05/04 16:59:10 WARN DAGScheduler: Broadcasting large task binary with size 6.6 MiB\n",
      "22/05/04 16:59:12 WARN DAGScheduler: Broadcasting large task binary with size 7.2 MiB\n",
      "22/05/04 16:59:14 WARN DAGScheduler: Broadcasting large task binary with size 7.7 MiB\n",
      "22/05/04 16:59:16 WARN DAGScheduler: Broadcasting large task binary with size 7.9 MiB\n",
      "22/05/04 16:59:18 WARN DAGScheduler: Broadcasting large task binary with size 8.1 MiB\n",
      "22/05/04 16:59:19 WARN DAGScheduler: Broadcasting large task binary with size 8.1 MiB\n",
      "22/05/04 16:59:20 WARN DAGScheduler: Broadcasting large task binary with size 7.2 MiB\n",
      "22/05/04 16:59:22 WARN DAGScheduler: Broadcasting large task binary with size 7.2 MiB\n",
      "22/05/04 16:59:23 WARN DAGScheduler: Broadcasting large task binary with size 5.2 MiB\n",
      "22/05/04 16:59:23 WARN DAGScheduler: Broadcasting large task binary with size 2.1 MiB\n",
      "22/05/04 16:59:24 WARN DAGScheduler: Broadcasting large task binary with size 2.1 MiB\n",
      "22/05/04 16:59:28 WARN DAGScheduler: Broadcasting large task binary with size 1119.4 KiB\n",
      "22/05/04 16:59:33 WARN DAGScheduler: Broadcasting large task binary with size 1141.1 KiB\n",
      "22/05/04 16:59:37 WARN DAGScheduler: Broadcasting large task binary with size 1119.4 KiB\n",
      "22/05/04 16:59:37 WARN DAGScheduler: Broadcasting large task binary with size 1764.6 KiB\n",
      "22/05/04 16:59:39 WARN DAGScheduler: Broadcasting large task binary with size 2.6 MiB\n",
      "22/05/04 16:59:40 WARN DAGScheduler: Broadcasting large task binary with size 3.6 MiB\n",
      "22/05/04 16:59:42 WARN DAGScheduler: Broadcasting large task binary with size 4.6 MiB\n",
      "22/05/04 16:59:44 WARN DAGScheduler: Broadcasting large task binary with size 5.6 MiB\n",
      "22/05/04 16:59:46 WARN DAGScheduler: Broadcasting large task binary with size 6.5 MiB\n",
      "22/05/04 16:59:48 WARN DAGScheduler: Broadcasting large task binary with size 7.1 MiB\n",
      "22/05/04 16:59:49 WARN DAGScheduler: Broadcasting large task binary with size 7.6 MiB\n",
      "22/05/04 16:59:51 WARN DAGScheduler: Broadcasting large task binary with size 7.8 MiB\n",
      "22/05/04 16:59:53 WARN DAGScheduler: Broadcasting large task binary with size 8.0 MiB\n",
      "22/05/04 16:59:54 WARN DAGScheduler: Broadcasting large task binary with size 8.0 MiB\n",
      "22/05/04 16:59:56 WARN DAGScheduler: Broadcasting large task binary with size 8.1 MiB\n",
      "22/05/04 16:59:58 WARN DAGScheduler: Broadcasting large task binary with size 8.1 MiB\n",
      "22/05/04 16:59:59 WARN DAGScheduler: Broadcasting large task binary with size 7.1 MiB\n",
      "22/05/04 17:00:00 WARN DAGScheduler: Broadcasting large task binary with size 4.1 MiB\n",
      "22/05/04 17:00:00 WARN DAGScheduler: Broadcasting large task binary with size 1109.4 KiB\n",
      "22/05/04 17:00:01 WARN DAGScheduler: Broadcasting large task binary with size 1109.7 KiB\n",
      "22/05/04 17:00:01 WARN DAGScheduler: Broadcasting large task binary with size 1109.9 KiB\n",
      "22/05/04 17:00:01 WARN DAGScheduler: Broadcasting large task binary with size 1110.2 KiB\n",
      "22/05/04 17:00:01 WARN DAGScheduler: Broadcasting large task binary with size 1110.4 KiB\n",
      "22/05/04 17:00:06 WARN DAGScheduler: Broadcasting large task binary with size 1141.1 KiB\n",
      "22/05/04 17:00:07 WARN DAGScheduler: Broadcasting large task binary with size 1841.4 KiB\n",
      "22/05/04 17:00:08 WARN DAGScheduler: Broadcasting large task binary with size 2.7 MiB\n",
      "22/05/04 17:00:10 WARN DAGScheduler: Broadcasting large task binary with size 3.7 MiB\n",
      "22/05/04 17:00:12 WARN DAGScheduler: Broadcasting large task binary with size 4.8 MiB\n",
      "22/05/04 17:00:14 WARN DAGScheduler: Broadcasting large task binary with size 5.8 MiB\n",
      "22/05/04 17:00:16 WARN DAGScheduler: Broadcasting large task binary with size 6.6 MiB\n",
      "22/05/04 17:00:18 WARN DAGScheduler: Broadcasting large task binary with size 7.2 MiB\n",
      "22/05/04 17:00:20 WARN DAGScheduler: Broadcasting large task binary with size 7.6 MiB\n",
      "22/05/04 17:00:22 WARN DAGScheduler: Broadcasting large task binary with size 7.8 MiB\n",
      "22/05/04 17:00:23 WARN DAGScheduler: Broadcasting large task binary with size 8.0 MiB\n",
      "22/05/04 17:00:25 WARN DAGScheduler: Broadcasting large task binary with size 8.0 MiB\n",
      "22/05/04 17:00:26 WARN DAGScheduler: Broadcasting large task binary with size 8.1 MiB\n",
      "22/05/04 17:00:28 WARN DAGScheduler: Broadcasting large task binary with size 8.1 MiB\n",
      "22/05/04 17:00:29 WARN DAGScheduler: Broadcasting large task binary with size 6.1 MiB\n",
      "22/05/04 17:00:30 WARN DAGScheduler: Broadcasting large task binary with size 3.1 MiB\n",
      "22/05/04 17:00:30 WARN DAGScheduler: Broadcasting large task binary with size 2.1 MiB\n",
      "22/05/04 17:00:31 WARN DAGScheduler: Broadcasting large task binary with size 1147.8 KiB\n",
      "22/05/04 17:00:31 WARN DAGScheduler: Broadcasting large task binary with size 1148.0 KiB\n",
      "22/05/04 17:00:36 WARN DAGScheduler: Broadcasting large task binary with size 1150.3 KiB\n",
      "22/05/04 17:00:37 WARN DAGScheduler: Broadcasting large task binary with size 1876.3 KiB\n",
      "22/05/04 17:00:38 WARN DAGScheduler: Broadcasting large task binary with size 2.8 MiB\n",
      "22/05/04 17:00:40 WARN DAGScheduler: Broadcasting large task binary with size 4.0 MiB\n",
      "22/05/04 17:00:42 WARN DAGScheduler: Broadcasting large task binary with size 5.3 MiB\n",
      "22/05/04 17:00:45 WARN DAGScheduler: Broadcasting large task binary with size 6.5 MiB\n",
      "22/05/04 17:00:47 WARN DAGScheduler: Broadcasting large task binary with size 7.5 MiB\n",
      "22/05/04 17:00:50 WARN DAGScheduler: Broadcasting large task binary with size 8.3 MiB\n",
      "22/05/04 17:00:53 WARN DAGScheduler: Broadcasting large task binary with size 8.8 MiB\n",
      "22/05/04 17:00:56 WARN DAGScheduler: Broadcasting large task binary with size 9.2 MiB\n",
      "22/05/04 17:00:58 WARN DAGScheduler: Broadcasting large task binary with size 9.3 MiB\n",
      "22/05/04 17:01:00 WARN DAGScheduler: Broadcasting large task binary with size 9.4 MiB\n",
      "22/05/04 17:01:02 WARN DAGScheduler: Broadcasting large task binary with size 9.4 MiB\n",
      "22/05/04 17:01:03 WARN DAGScheduler: Broadcasting large task binary with size 9.5 MiB\n",
      "22/05/04 17:01:05 WARN DAGScheduler: Broadcasting large task binary with size 7.1 MiB\n",
      "22/05/04 17:01:06 WARN DAGScheduler: Broadcasting large task binary with size 3.6 MiB\n",
      "22/05/04 17:01:06 WARN DAGScheduler: Broadcasting large task binary with size 1283.6 KiB\n",
      "22/05/04 17:01:06 WARN DAGScheduler: Broadcasting large task binary with size 1283.8 KiB\n"
     ]
    }
   ],
   "source": [
    "cv_model = cv.fit(train_data)"
   ]
  },
  {
   "cell_type": "code",
   "execution_count": 48,
   "id": "09f8fe85-2fcb-4bbb-8088-f6bc2cea3c3b",
   "metadata": {},
   "outputs": [],
   "source": [
    "best_rf_model = cv_model.bestModel"
   ]
  },
  {
   "cell_type": "code",
   "execution_count": 49,
   "id": "133948a3-b67c-407f-adb3-4c4ec325cc76",
   "metadata": {},
   "outputs": [
    {
     "data": {
      "text/plain": [
       "'Best Param(maxBins): 15'"
      ]
     },
     "execution_count": 49,
     "metadata": {},
     "output_type": "execute_result"
    }
   ],
   "source": [
    "f'Best Param(maxBins): {best_rf_model._java_obj.getMaxBins()}'"
   ]
  },
  {
   "cell_type": "markdown",
   "id": "7595236a-d183-41ff-be2d-663ec8d95c59",
   "metadata": {},
   "source": [
    "## Evaluate Tuned Model"
   ]
  },
  {
   "cell_type": "code",
   "execution_count": 50,
   "id": "42c4a495-22e8-4477-9b61-1a9bd2e1c591",
   "metadata": {},
   "outputs": [],
   "source": [
    "best_predict = best_rf_model.transform(test_data)"
   ]
  },
  {
   "cell_type": "code",
   "execution_count": 51,
   "id": "488f8f36-5e31-4406-b624-a7f8081c91b8",
   "metadata": {},
   "outputs": [
    {
     "name": "stdout",
     "output_type": "stream",
     "text": [
      "best_rf_RMSE: 261558.49694467278\n"
     ]
    }
   ],
   "source": [
    "best_rf_RMSE = evaluatorRMSE.evaluate(best_predict)\n",
    "print('best_rf_RMSE:', best_rf_RMSE)"
   ]
  },
  {
   "cell_type": "code",
   "execution_count": 52,
   "id": "b904bb82-b123-4f70-9d05-6ba42f3c9660",
   "metadata": {},
   "outputs": [
    {
     "name": "stdout",
     "output_type": "stream",
     "text": [
      "best_rf_R2: 0.9916060018766223\n"
     ]
    }
   ],
   "source": [
    "best_rf_R2 = evaluatorR2.evaluate(best_predict)\n",
    "print('best_rf_R2:', best_rf_R2)"
   ]
  },
  {
   "cell_type": "code",
   "execution_count": 53,
   "id": "22517c52-1f92-443b-b585-605204c807e6",
   "metadata": {},
   "outputs": [
    {
     "data": {
      "text/plain": [
       "SparseVector(16, {0: 0.9774, 1: 0.0024, 2: 0.0004, 3: 0.0005, 4: 0.0021, 5: 0.0019, 6: 0.0018, 7: 0.0018, 8: 0.0023, 9: 0.0004, 10: 0.0004, 11: 0.0021, 12: 0.0023, 13: 0.0019, 14: 0.0006, 15: 0.0017})"
      ]
     },
     "execution_count": 53,
     "metadata": {},
     "output_type": "execute_result"
    }
   ],
   "source": [
    "best_rf_model.featureImportances"
   ]
  },
  {
   "cell_type": "code",
   "execution_count": 88,
   "id": "e1a524f7-499f-49f7-8c32-e0a8657cb0db",
   "metadata": {},
   "outputs": [],
   "source": [
    "from pyspark.sql.types import *\n",
    "def ExtractFeatureImp(featureImp, dataset, featuresCol):\n",
    "    list_extract = []\n",
    "    for i in dataset.schema[featuresCol].metadata['ml_attr']['attrs']:\n",
    "        list_extract = list_extract + dataset.schema[featuresCol].metadata['ml_attr']['attrs'][i]\n",
    "    varlist = ps.DataFrame(list_extract)\n",
    "    varlist['score'] = varlist['idx'].apply(lambda x: featureImp[x])\n",
    "    return varlist.sort_values('score', ascending = False)"
   ]
  },
  {
   "cell_type": "code",
   "execution_count": 89,
   "id": "a2a8a1c9-aa57-4159-8ff6-eeccfe481f25",
   "metadata": {},
   "outputs": [
    {
     "name": "stderr",
     "output_type": "stream",
     "text": [
      "                                                                                \r"
     ]
    },
    {
     "data": {
      "text/html": [
       "<div>\n",
       "<style scoped>\n",
       "    .dataframe tbody tr th:only-of-type {\n",
       "        vertical-align: middle;\n",
       "    }\n",
       "\n",
       "    .dataframe tbody tr th {\n",
       "        vertical-align: top;\n",
       "    }\n",
       "\n",
       "    .dataframe thead th {\n",
       "        text-align: right;\n",
       "    }\n",
       "</style>\n",
       "<table border=\"1\" class=\"dataframe\">\n",
       "  <thead>\n",
       "    <tr style=\"text-align: right;\">\n",
       "      <th></th>\n",
       "      <th>idx</th>\n",
       "      <th>name</th>\n",
       "      <th>score</th>\n",
       "    </tr>\n",
       "  </thead>\n",
       "  <tbody>\n",
       "    <tr>\n",
       "      <th>0</th>\n",
       "      <td>0</td>\n",
       "      <td>squareMeters</td>\n",
       "      <td>0.977401</td>\n",
       "    </tr>\n",
       "    <tr>\n",
       "      <th>1</th>\n",
       "      <td>1</td>\n",
       "      <td>numberOfRooms</td>\n",
       "      <td>0.002428</td>\n",
       "    </tr>\n",
       "    <tr>\n",
       "      <th>12</th>\n",
       "      <td>12</td>\n",
       "      <td>attic</td>\n",
       "      <td>0.002268</td>\n",
       "    </tr>\n",
       "    <tr>\n",
       "      <th>8</th>\n",
       "      <td>8</td>\n",
       "      <td>made</td>\n",
       "      <td>0.002259</td>\n",
       "    </tr>\n",
       "    <tr>\n",
       "      <th>11</th>\n",
       "      <td>11</td>\n",
       "      <td>basement</td>\n",
       "      <td>0.002145</td>\n",
       "    </tr>\n",
       "    <tr>\n",
       "      <th>4</th>\n",
       "      <td>4</td>\n",
       "      <td>floors</td>\n",
       "      <td>0.002051</td>\n",
       "    </tr>\n",
       "    <tr>\n",
       "      <th>13</th>\n",
       "      <td>13</td>\n",
       "      <td>garage</td>\n",
       "      <td>0.001921</td>\n",
       "    </tr>\n",
       "    <tr>\n",
       "      <th>5</th>\n",
       "      <td>5</td>\n",
       "      <td>cityCode</td>\n",
       "      <td>0.001916</td>\n",
       "    </tr>\n",
       "    <tr>\n",
       "      <th>6</th>\n",
       "      <td>6</td>\n",
       "      <td>cityPartRange</td>\n",
       "      <td>0.001805</td>\n",
       "    </tr>\n",
       "    <tr>\n",
       "      <th>7</th>\n",
       "      <td>7</td>\n",
       "      <td>numPrevOwners</td>\n",
       "      <td>0.001750</td>\n",
       "    </tr>\n",
       "    <tr>\n",
       "      <th>15</th>\n",
       "      <td>15</td>\n",
       "      <td>hasGuestRoom</td>\n",
       "      <td>0.001745</td>\n",
       "    </tr>\n",
       "    <tr>\n",
       "      <th>14</th>\n",
       "      <td>14</td>\n",
       "      <td>hasStorageRoom</td>\n",
       "      <td>0.000627</td>\n",
       "    </tr>\n",
       "    <tr>\n",
       "      <th>3</th>\n",
       "      <td>3</td>\n",
       "      <td>hasPool</td>\n",
       "      <td>0.000453</td>\n",
       "    </tr>\n",
       "    <tr>\n",
       "      <th>9</th>\n",
       "      <td>9</td>\n",
       "      <td>isNewBuilt</td>\n",
       "      <td>0.000445</td>\n",
       "    </tr>\n",
       "    <tr>\n",
       "      <th>10</th>\n",
       "      <td>10</td>\n",
       "      <td>hasStormProtector</td>\n",
       "      <td>0.000429</td>\n",
       "    </tr>\n",
       "    <tr>\n",
       "      <th>2</th>\n",
       "      <td>2</td>\n",
       "      <td>hasYard</td>\n",
       "      <td>0.000356</td>\n",
       "    </tr>\n",
       "  </tbody>\n",
       "</table>\n",
       "</div>"
      ],
      "text/plain": [
       "    idx               name     score\n",
       "0     0       squareMeters  0.977401\n",
       "1     1      numberOfRooms  0.002428\n",
       "12   12              attic  0.002268\n",
       "8     8               made  0.002259\n",
       "11   11           basement  0.002145\n",
       "4     4             floors  0.002051\n",
       "13   13             garage  0.001921\n",
       "5     5           cityCode  0.001916\n",
       "6     6      cityPartRange  0.001805\n",
       "7     7      numPrevOwners  0.001750\n",
       "15   15       hasGuestRoom  0.001745\n",
       "14   14     hasStorageRoom  0.000627\n",
       "3     3            hasPool  0.000453\n",
       "9     9         isNewBuilt  0.000445\n",
       "10   10  hasStormProtector  0.000429\n",
       "2     2            hasYard  0.000356"
      ]
     },
     "execution_count": 89,
     "metadata": {},
     "output_type": "execute_result"
    }
   ],
   "source": [
    "ExtractFeatureImp(best_rf_model.featureImportances, final_df, 'features')"
   ]
  },
  {
   "cell_type": "code",
   "execution_count": 67,
   "id": "09cf8caf-0095-4300-ada7-778511116469",
   "metadata": {},
   "outputs": [
    {
     "data": {
      "text/plain": [
       "[0,\n",
       " SparseVector(16, {0: 0.9774, 1: 0.0024, 2: 0.0004, 3: 0.0005, 4: 0.0021, 5: 0.0019, 6: 0.0018, 7: 0.0018, 8: 0.0023, 9: 0.0004, 10: 0.0004, 11: 0.0021, 12: 0.0023, 13: 0.0019, 14: 0.0006, 15: 0.0017})]"
      ]
     },
     "execution_count": 67,
     "metadata": {},
     "output_type": "execute_result"
    }
   ],
   "source": [
    "data = [0, (best_rf_model.featureImportances)]\n",
    "data"
   ]
  },
  {
   "cell_type": "code",
   "execution_count": 77,
   "id": "5de160d3-d3b7-49d7-bf69-3d62b011e18d",
   "metadata": {},
   "outputs": [
    {
     "data": {
      "text/plain": [
       "['features']"
      ]
     },
     "execution_count": 77,
     "metadata": {},
     "output_type": "execute_result"
    }
   ],
   "source": [
    "['features']"
   ]
  },
  {
   "cell_type": "code",
   "execution_count": null,
   "id": "027673ba-01a1-4f21-85d6-7485774601cd",
   "metadata": {},
   "outputs": [],
   "source": []
  }
 ],
 "metadata": {
  "kernelspec": {
   "display_name": "Python 3 (ipykernel)",
   "language": "python",
   "name": "python3"
  },
  "language_info": {
   "codemirror_mode": {
    "name": "ipython",
    "version": 3
   },
   "file_extension": ".py",
   "mimetype": "text/x-python",
   "name": "python",
   "nbconvert_exporter": "python",
   "pygments_lexer": "ipython3",
   "version": "3.8.10"
  }
 },
 "nbformat": 4,
 "nbformat_minor": 5
}
